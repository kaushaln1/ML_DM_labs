{
  "cells": [
    {
      "cell_type": "markdown",
      "metadata": {
        "id": "view-in-github",
        "colab_type": "text"
      },
      "source": [
        "<a href=\"https://colab.research.google.com/github/kaushaln1/ML_DM_labs/blob/main/ML/MachineLearning_HW_4_c.ipynb\" target=\"_parent\"><img src=\"https://colab.research.google.com/assets/colab-badge.svg\" alt=\"Open In Colab\"/></a>"
      ]
    },
    {
      "cell_type": "markdown",
      "id": "1470cb89",
      "metadata": {
        "ExecuteTime": {
          "end_time": "2022-04-09T19:20:55.628504Z",
          "start_time": "2022-04-09T19:20:55.614933Z"
        },
        "id": "1470cb89"
      },
      "source": [
        "# CS 436 / 536: Introduction to Machine Learning\n",
        "# Spring 2022\n",
        "## Neural Networks\n",
        "\n",
        "##### This file relies upon several functions implemented previously in the notebook on Linear Models and Regularization and Validation.\n",
        "\n",
        "##### You will have to make several modifications throughout to adapt this code to the homework problems. Please thoroughly check each and every code block to make sure it is performing exactly the function you need it to perform"
      ]
    },
    {
      "cell_type": "code",
      "execution_count": null,
      "id": "a394b94a",
      "metadata": {
        "ExecuteTime": {
          "end_time": "2022-05-03T16:08:12.944485Z",
          "start_time": "2022-05-03T16:08:06.943807Z"
        },
        "id": "a394b94a"
      },
      "outputs": [],
      "source": [
        "# from ipynb.fs.full.LinearModels import *\n",
        "# from ipynb.fs.full.RegularizationValidation import *\n",
        "# from ipynb.fs.full.Similarity import *"
      ]
    },
    {
      "cell_type": "code",
      "execution_count": null,
      "id": "367e17d7",
      "metadata": {
        "ExecuteTime": {
          "end_time": "2022-05-03T16:08:13.081860Z",
          "start_time": "2022-05-03T16:08:13.036934Z"
        },
        "id": "367e17d7",
        "outputId": "62850114-675f-44a2-9aa2-fb1df744e227",
        "colab": {
          "base_uri": "https://localhost:8080/"
        }
      },
      "outputs": [
        {
          "output_type": "execute_result",
          "data": {
            "text/plain": [
              "True"
            ]
          },
          "metadata": {},
          "execution_count": 3
        }
      ],
      "source": [
        "'''\n",
        "Init\n",
        "\n",
        "This is a HACK!\n",
        "'''\n",
        "\n",
        "execute = True\n",
        "execute"
      ]
    },
    {
      "cell_type": "code",
      "source": [
        "#deps\n",
        "'''\n",
        "Dependencies\n",
        "'''\n",
        "import numpy as np\n",
        "from matplotlib import pyplot as plt\n",
        "from matplotlib.colors import ListedColormap\n",
        "from itertools import permutations, combinations_with_replacement\n",
        "import copy\n",
        "from google.colab import drive\n",
        "drive.mount('/content/drive')\n",
        "\n",
        "'''\n",
        "Read training and test datasets\n",
        "'''\n",
        "def readData(fname='/content/drive/MyDrive/Colab Notebooks/ZipDigits.train'):\n",
        "    '''\n",
        "    Input:\n",
        "        fname: name of file containing N examples, each with d attributes\n",
        "    Output:\n",
        "        X: N x d+1 numpy array\n",
        "        y: N x 1 numpy array\n",
        "    '''\n",
        "    with open(fname) as f:\n",
        "        X = []\n",
        "        y = []\n",
        "        rlines = f.readlines()\n",
        "        for line in rlines:\n",
        "            row = line.rstrip().split(' ')\n",
        "            yval = int(float(row[0]))\n",
        "            y.append(yval)\n",
        "            xvals = [float(pixel) for pixel in row[1:]]\n",
        "            X.append(xvals)\n",
        "        X = np.array(X)\n",
        "        y = np.array(y)\n",
        "        y = y.reshape((y.shape[0], 1))\n",
        "        print(f'X shape: {X.shape}')\n",
        "        print(f'y shape: {y.shape}')\n",
        "        return X, y\n",
        "'''\n",
        "Computing Features\n",
        "'''\n",
        "\n",
        "\n",
        "def computeIntensity(X):\n",
        "    '''\n",
        "    Compute the average intensity feature\n",
        "    Input:\n",
        "        X: a 2 dimensional N x 256 numpy array\n",
        "           each row contains the values of 256 pixels from a 16 x 16 grayscale image of a handwritten digit\n",
        "           each pixel has an intensity value between -1 and 1\n",
        "    Output:\n",
        "        intensities: a 2 dimensional N x 1 numpy array\n",
        "                     each row consists of a single value representing the\n",
        "                     average pixel intesity of the corresponding image\n",
        "                     See LFD Example 3.1\n",
        "    '''\n",
        "    print('computing intensity feature')\n",
        "    N, d = X.shape\n",
        "    print(f'Input shape {N}, {d}')\n",
        "    intensities = np.matmul(X, np.ones((d, 1)))/d\n",
        "    print(f'Output shape {intensities.shape}')\n",
        "    return intensities\n",
        "\n",
        "\n",
        "def computeSymmetry(X):\n",
        "    '''\n",
        "    Compute the symmetry feature\n",
        "    Input:\n",
        "        X: a 2 dimensional N x 256 numpy array\n",
        "           each row contains the values of 256 pixels from a 16 x 16 grayscale image of a handwritten digit\n",
        "           each pixel has an intensity value between -1 and 1\n",
        "    Output:\n",
        "        symmetries: a 2 dimensional N x 1 numpy array\n",
        "                     each row consists of a single value representing the\n",
        "                     \"horizontal\" symmetry of the 16 x 16 image about the vertical axis\n",
        "                     See LFD Example 3.1\n",
        "    '''\n",
        "    print('computing symmetry feature')\n",
        "    N, d = X.shape\n",
        "    print(f'Input shape {N}, {d}')\n",
        "    Ximgs = [X[n, :].reshape((16, 16)) for n in range(N)]\n",
        "    Ximgs_flipped = [np.flip(Ximgs[n], axis=1) for n in range(N)]\n",
        "    symmetries = [np.sum(np.abs((Ximgs[n] - Ximgs_flipped[n])\n",
        "                                ).reshape(256, ))/d for n in range(N)]\n",
        "    symmetries = -np.array(symmetries)\n",
        "    symmetries = symmetries.reshape(N, 1)\n",
        "    print(f'Output shape {symmetries.shape}')\n",
        "    return symmetries\n",
        "'''\n",
        "Computing the augmented feature matrix\n",
        "'''\n",
        "\n",
        "\n",
        "def computeAugmentedXWithFeatures(X):\n",
        "    '''\n",
        "    Compute the augmented feature matrix\n",
        "    Input:\n",
        "        X: a 2 dimensional N x 256 numpy array\n",
        "           each row contains the values of 256 pixels from a 16 x 16 grayscale image of a handwritten digit\n",
        "           each pixel has an intensity value between -1 and 1\n",
        "    Output:\n",
        "        Xaug: a 2 dimensional N x 3 numpy array\n",
        "              the augmented feature matrix\n",
        "              the i-th row corresponds to the i-th row of X (and image represented by it)\n",
        "              the 0-th column is the column of 1s\n",
        "              the 1-st column is the column of average intensities\n",
        "              the 2-nd column is the column of horizontal symmetries\n",
        "    '''\n",
        "    N, d = X.shape\n",
        "    intensity = computeIntensity(X)\n",
        "    symmetry = computeSymmetry(X)\n",
        "    dummy = np.ones((N, 1))\n",
        "    Xaug = np.concatenate((dummy, intensity, symmetry), axis=1)\n",
        "    # print(Xaug)\n",
        "    print(f'Shape of augmented feature matrix: {Xaug.shape}')\n",
        "    return Xaug\n",
        "\n",
        "def normalize_column(arr, t_min, t_max):\n",
        "    norm_arr = []\n",
        "    diff = t_max - t_min\n",
        "    diff_arr = max(arr) - min(arr)\n",
        "    norm_arr = t_min + ((arr - np.min(arr)) * (diff) / (diff_arr))\n",
        "    print(\"Norma arrs\")\n",
        "    print(norm_arr)\n",
        "    print(norm_arr.shape)\n",
        "    print(arr.shape)\n",
        "    #print(max(norm_arr))\n",
        "    #print(min(norm_arr))\n",
        "    return norm_arr\n",
        "\n",
        "def normalize(X, a=-1, b=1):\n",
        "    N, d = X.shape\n",
        "    Xnorm = np.ones((N, d))\n",
        "    for col in range(1, d, 1):\n",
        "        Xcol = X[:, col]\n",
        "        # TODO: Complete this implementation\n",
        "        # Complete\n",
        "        print(\"colstats\")\n",
        "        print(Xcol)\n",
        "        print(max(Xcol))\n",
        "        print(min(Xcol))\n",
        "        Xcolnorm = normalize_column(Xcol,-1,1)\n",
        "        Xnorm[:, col] = Xcolnorm\n",
        "    return Xnorm\n",
        "\n",
        "\n",
        "import random\n",
        "def splitDataSelectKRandomly(X, y, K):\n",
        "    '''\n",
        "    Partitions the input dataset with N data points given by X and y into two parts,\n",
        "    one with K of the data points selected uniformly at random, and\n",
        "    the other with the remaining N-K data points\n",
        "    Input:\n",
        "        X: a 2 dimensional N x d numpy array\n",
        "           The n-th row X[n, :] contains features for the n-th example in the training set\n",
        "           X[n, 0] = 1\n",
        "           X[n, 1], ..., X[n, d] have values of features\n",
        "        y: a 2 dimensional N x 1 numpy array\n",
        "           y[i, 0] is the label associated with the i-th example\n",
        "        K: an integer; number of data points to select\n",
        "    Output:\n",
        "        Xselected: a 2 dimensional K x d numpy array, K data points selected from X uniformly at random\n",
        "        yselected: a 2 dimensional K x 1 numpy array, the labels from the input y corresponding to the examples selected in Xselected\n",
        "        Xremaining: a 2 dimensional N-K x d numpy array\n",
        "        yremaining: a 2 dimensional N-K x 1 numpy array\n",
        "    '''\n",
        "    N, d = X.shape\n",
        "    # random.shuffle(Xnorm)\n",
        "    # td = Xnorm[:int((len(Xnorm)+1) - 301)]\n",
        "    # tst_data = Xnorm[int((len(Xnorm)+1) - 301):]\n",
        "    indices = np.random.choice(N, K, replace=False)\n",
        "    Xselected = X[indices, :]\n",
        "    yselected = y[indices, :]\n",
        "    Xremaining = np.delete(X, indices, axis=0)\n",
        "    yremaining = np.delete(y, indices, axis=0)\n",
        "\n",
        "    return Xselected, yselected, Xremaining, yremaining\n",
        "\n",
        "\n",
        "if execute:\n",
        "    Xdigitstrain, ydigitstrain = readData('/content/drive/MyDrive/Colab Notebooks/ZipDigits.train')\n",
        "\n",
        "    Ndigitstrain, pixels = Xdigitstrain.shape\n",
        "\n",
        "    assert(Ndigitstrain == ydigitstrain.shape[0])\n",
        "\n",
        "    print(f'Xdigitstrain shape {Xdigitstrain.shape}, ydigitstrain shape {ydigitstrain.shape}')"
      ],
      "metadata": {
        "colab": {
          "base_uri": "https://localhost:8080/"
        },
        "id": "EZQuFJEIZUXn",
        "outputId": "98cb155a-323d-4a04-9198-55738b05f950"
      },
      "id": "EZQuFJEIZUXn",
      "execution_count": null,
      "outputs": [
        {
          "output_type": "stream",
          "name": "stdout",
          "text": [
            "Mounted at /content/drive\n",
            "X shape: (7291, 256)\n",
            "y shape: (7291, 1)\n",
            "Xdigitstrain shape (7291, 256), ydigitstrain shape (7291, 1)\n"
          ]
        }
      ]
    },
    {
      "cell_type": "markdown",
      "id": "894a9be8",
      "metadata": {
        "id": "894a9be8"
      },
      "source": [
        "## Read MNIST Digits Dataset"
      ]
    },
    {
      "cell_type": "code",
      "execution_count": null,
      "id": "ca7aeef8",
      "metadata": {
        "ExecuteTime": {
          "end_time": "2022-05-03T16:08:18.478729Z",
          "start_time": "2022-05-03T16:08:13.169266Z"
        },
        "id": "ca7aeef8",
        "outputId": "cc5a0b11-35e2-44a1-c6c0-bef57e74702d",
        "colab": {
          "base_uri": "https://localhost:8080/"
        }
      },
      "outputs": [
        {
          "output_type": "stream",
          "name": "stdout",
          "text": [
            "X shape: (7291, 256)\n",
            "y shape: (7291, 1)\n",
            "Xdigitstrain shape (7291, 256), ydigitstrain shape (7291, 1)\n"
          ]
        }
      ],
      "source": [
        "if execute:\n",
        "    Xdigitstrain, ydigitstrain = readData('/content/drive/MyDrive/Colab Notebooks/ZipDigits.train')\n",
        "\n",
        "    Ndigitstrain, pixels = Xdigitstrain.shape\n",
        "\n",
        "    assert(Ndigitstrain == ydigitstrain.shape[0])\n",
        "\n",
        "    print(f'Xdigitstrain shape {Xdigitstrain.shape}, ydigitstrain shape {ydigitstrain.shape}')"
      ]
    },
    {
      "cell_type": "code",
      "execution_count": null,
      "id": "a5668e8d",
      "metadata": {
        "ExecuteTime": {
          "end_time": "2022-05-03T16:08:19.690087Z",
          "start_time": "2022-05-03T16:08:18.571897Z"
        },
        "id": "a5668e8d",
        "outputId": "ee675f3d-d582-4e05-fb5e-fa4a0273db99",
        "colab": {
          "base_uri": "https://localhost:8080/"
        }
      },
      "outputs": [
        {
          "output_type": "stream",
          "name": "stdout",
          "text": [
            "X shape: (2007, 256)\n",
            "y shape: (2007, 1)\n",
            "Xdigitstest shape (2007, 256), ydigitstest shape (2007, 1)\n"
          ]
        }
      ],
      "source": [
        "if execute:\n",
        "    Xdigitstest, ydigitstest = readData('/content/drive/MyDrive/Colab Notebooks/ZipDigits.test')\n",
        "\n",
        "    Ndigitstest, pixels = Xdigitstest.shape\n",
        "\n",
        "    assert(Ndigitstest == ydigitstest.shape[0])\n",
        "\n",
        "    print(f'Xdigitstest shape {Xdigitstest.shape}, ydigitstest shape {ydigitstest.shape}')"
      ]
    },
    {
      "cell_type": "markdown",
      "id": "f14d939c",
      "metadata": {
        "id": "f14d939c"
      },
      "source": [
        "## Feature Normalization"
      ]
    },
    {
      "cell_type": "markdown",
      "id": "7a802519",
      "metadata": {
        "id": "7a802519"
      },
      "source": [
        "### Compute 'Augmented' Feature Matrix"
      ]
    },
    {
      "cell_type": "code",
      "execution_count": null,
      "id": "e726903f",
      "metadata": {
        "ExecuteTime": {
          "end_time": "2022-05-03T16:08:20.360238Z",
          "start_time": "2022-05-03T16:08:19.755971Z"
        },
        "id": "e726903f",
        "outputId": "332a372d-db25-4355-c5dc-4f6c6fb07daf",
        "colab": {
          "base_uri": "https://localhost:8080/"
        }
      },
      "outputs": [
        {
          "output_type": "stream",
          "name": "stdout",
          "text": [
            "Computing augmented training feature matrix\n",
            "computing intensity feature\n",
            "Input shape 7291, 256\n",
            "Output shape (7291, 1)\n",
            "computing symmetry feature\n",
            "Input shape 7291, 256\n",
            "Output shape (7291, 1)\n",
            "Shape of augmented feature matrix: (7291, 3)\n",
            "Xaugtrain shape (7291, 3)\n"
          ]
        }
      ],
      "source": [
        "if execute:\n",
        "    print('Computing augmented training feature matrix')\n",
        "\n",
        "    Xaugtrain = computeAugmentedXWithFeatures(Xdigitstrain)\n",
        "\n",
        "    Naugtrain, d = Xaugtrain.shape\n",
        "\n",
        "    print(f'Xaugtrain shape {Xaugtrain.shape}')"
      ]
    },
    {
      "cell_type": "code",
      "execution_count": null,
      "id": "4cc030b8",
      "metadata": {
        "ExecuteTime": {
          "end_time": "2022-05-03T16:08:20.654191Z",
          "start_time": "2022-05-03T16:08:20.462792Z"
        },
        "id": "4cc030b8",
        "outputId": "34772e31-5685-42a4-f034-822830237943",
        "colab": {
          "base_uri": "https://localhost:8080/"
        }
      },
      "outputs": [
        {
          "output_type": "stream",
          "name": "stdout",
          "text": [
            "Computing augmented test feature matrix\n",
            "computing intensity feature\n",
            "Input shape 2007, 256\n",
            "Output shape (2007, 1)\n",
            "computing symmetry feature\n",
            "Input shape 2007, 256\n",
            "Output shape (2007, 1)\n",
            "Shape of augmented feature matrix: (2007, 3)\n",
            "Xaugtest shape (2007, 3)\n"
          ]
        }
      ],
      "source": [
        "if execute:\n",
        "    print('Computing augmented test feature matrix')\n",
        "\n",
        "    Xaugtest = computeAugmentedXWithFeatures(Xdigitstest)\n",
        "\n",
        "    Naugtest, d = Xaugtest.shape\n",
        "\n",
        "    print(f'Xaugtest shape {Xaugtest.shape}')"
      ]
    },
    {
      "cell_type": "markdown",
      "id": "42ed8d67",
      "metadata": {
        "id": "42ed8d67"
      },
      "source": [
        "### Combine Data"
      ]
    },
    {
      "cell_type": "code",
      "execution_count": null,
      "id": "a67eba46",
      "metadata": {
        "ExecuteTime": {
          "end_time": "2022-05-03T16:08:20.779687Z",
          "start_time": "2022-05-03T16:08:20.756429Z"
        },
        "id": "a67eba46",
        "outputId": "0fb9a03b-d590-4584-e2e9-44076b2a6704",
        "colab": {
          "base_uri": "https://localhost:8080/"
        }
      },
      "outputs": [
        {
          "output_type": "stream",
          "name": "stdout",
          "text": [
            "Xaug shape (9298, 3), ycombined shape (9298, 1)\n"
          ]
        }
      ],
      "source": [
        "if execute:\n",
        "    Xaug = np.concatenate((Xaugtrain, Xaugtest), axis=0)\n",
        "    Naug, d = Xaug.shape\n",
        "    ycombined = np.concatenate((ydigitstrain, ydigitstest), axis=0)\n",
        "\n",
        "    assert(Xaug.shape[0] == Ndigitstrain + Ndigitstest)\n",
        "    assert(ycombined.shape[0] == Ndigitstrain + Ndigitstest)\n",
        "\n",
        "    print(f'Xaug shape {Xaug.shape}, ycombined shape {ycombined.shape}')"
      ]
    },
    {
      "cell_type": "markdown",
      "id": "dcc72cec",
      "metadata": {
        "id": "dcc72cec"
      },
      "source": [
        "### Normalize Features"
      ]
    },
    {
      "cell_type": "code",
      "execution_count": null,
      "id": "d9f30439",
      "metadata": {
        "ExecuteTime": {
          "end_time": "2022-05-03T16:08:21.638235Z",
          "start_time": "2022-05-03T16:08:20.882135Z"
        },
        "id": "d9f30439",
        "outputId": "c93729fd-2ca7-4ed3-9b55-d993a989d6d5",
        "colab": {
          "base_uri": "https://localhost:8080/"
        }
      },
      "outputs": [
        {
          "output_type": "stream",
          "name": "stdout",
          "text": [
            "colstats\n",
            "[-0.31781641 -0.11173828 -0.53799609 ... -0.38228516  0.01994141\n",
            " -0.62204688]\n",
            "0.3118828125\n",
            "-0.9063593750000001\n",
            "Norma arrs\n",
            "[-0.03378331  0.30453715 -0.39525443 ... -0.13962228  0.52071697\n",
            " -0.53324141]\n",
            "(9298,)\n",
            "(9298,)\n",
            "colstats\n",
            "[-0.37921094 -0.53372656 -0.44300781 ... -0.65989844 -0.32650781\n",
            " -0.13395313]\n",
            "-0.0165390625\n",
            "-1.065390625\n",
            "Norma arrs\n",
            "[ 0.30844003  0.0138023   0.18678912 ... -0.22678823  0.40893686\n",
            "  0.77610929]\n",
            "(9298,)\n",
            "(9298,)\n",
            "(9298, 3)\n"
          ]
        }
      ],
      "source": [
        "if execute:\n",
        "    Xnorm = normalize(Xaug)\n",
        "    N, d = Xnorm.shape\n",
        "    print(Xnorm.shape)\n",
        "\n",
        "    assert(Xnorm.shape == Xaug.shape)\n",
        "    assert(np.all( Xnorm[:, 0] == np.ones((N, 1)) ))"
      ]
    },
    {
      "cell_type": "markdown",
      "id": "4b37ca25",
      "metadata": {
        "id": "4b37ca25"
      },
      "source": [
        "### Setup Labels for the 1s vs Non 1s Classification Task"
      ]
    },
    {
      "cell_type": "code",
      "execution_count": null,
      "id": "011089d9",
      "metadata": {
        "ExecuteTime": {
          "end_time": "2022-05-03T16:08:21.855006Z",
          "start_time": "2022-05-03T16:08:21.771698Z"
        },
        "id": "011089d9"
      },
      "outputs": [],
      "source": [
        "if execute:\n",
        "    for n in range(N):\n",
        "        if ycombined[n, 0] == 1:\n",
        "            ycombined[n, 0] = 1\n",
        "        else:\n",
        "            ycombined[n, 0] = -1"
      ]
    },
    {
      "cell_type": "markdown",
      "id": "d980c8ba",
      "metadata": {
        "id": "d980c8ba"
      },
      "source": [
        "## Train-Test Split"
      ]
    },
    {
      "cell_type": "markdown",
      "id": "656accd9",
      "metadata": {
        "id": "656accd9"
      },
      "source": [
        "### Randomly select $K$ data points from the input data"
      ]
    },
    {
      "cell_type": "code",
      "execution_count": null,
      "id": "f805610a",
      "metadata": {
        "ExecuteTime": {
          "end_time": "2022-05-03T16:08:22.288121Z",
          "start_time": "2022-05-03T16:08:22.047323Z"
        },
        "id": "f805610a",
        "outputId": "184f08ee-63f4-4a2c-dabb-f082affe01ac",
        "colab": {
          "base_uri": "https://localhost:8080/"
        }
      },
      "outputs": [
        {
          "output_type": "stream",
          "name": "stdout",
          "text": [
            "Xnorm shape (9298, 3) ycombined shape (9298, 1)\n",
            "    X shape (100, 3) y shape (100, 1)\n",
            "    Xtest shape (9198, 3), ytest shape (9198, 1)\n"
          ]
        }
      ],
      "source": [
        "if execute:\n",
        "    Xin, yin, Xtest, ytest = splitDataSelectKRandomly(Xnorm, ycombined, 100)\n",
        "\n",
        "    print(f'Xnorm shape {Xnorm.shape} ycombined shape {ycombined.shape}\\n\\\n",
        "    X shape {Xin.shape} y shape {yin.shape}\\n\\\n",
        "    Xtest shape {Xtest.shape}, ytest shape {ytest.shape}')"
      ]
    },
    {
      "cell_type": "markdown",
      "id": "ba5986d3",
      "metadata": {
        "id": "ba5986d3"
      },
      "source": [
        "### Visualize the Data"
      ]
    },
    {
      "cell_type": "code",
      "execution_count": null,
      "id": "c6097d6d",
      "metadata": {
        "ExecuteTime": {
          "end_time": "2022-05-03T16:08:23.328819Z",
          "start_time": "2022-05-03T16:08:22.449753Z"
        },
        "id": "c6097d6d",
        "outputId": "75632589-a405-48f7-daac-91150ea9dc1d",
        "colab": {
          "base_uri": "https://localhost:8080/",
          "height": 445
        }
      },
      "outputs": [
        {
          "output_type": "display_data",
          "data": {
            "text/plain": [
              "<Figure size 500x500 with 1 Axes>"
            ],
            "image/png": "[encoded data removed]"
          },
          "metadata": {}
        }
      ],
      "source": [
        "if execute:\n",
        "    fig, axs = plt.subplots(figsize=(5, 5))\n",
        "    plus1s = np.where(yin == 1)[0]\n",
        "    minus1s = np.where(yin == -1)[0]\n",
        "    Xplus1s = Xin[plus1s, :]\n",
        "    Xminus1s = Xin[minus1s, :]\n",
        "    axs.scatter(Xplus1s[:, 1], Xplus1s[:, 2], marker='o',\n",
        "                color='blue', facecolors='none', label='1')\n",
        "    axs.scatter(Xminus1s[:, 1], Xminus1s[:, 2],\n",
        "                marker='x', color='red', label='Not 1')"
      ]
    },
    {
      "cell_type": "markdown",
      "id": "fa219b18",
      "metadata": {
        "id": "fa219b18"
      },
      "source": [
        "## Neural Networks"
      ]
    },
    {
      "cell_type": "markdown",
      "id": "564236ce",
      "metadata": {
        "id": "564236ce"
      },
      "source": [
        "### Transformation Functions\n",
        "\n",
        "- linear / identity: $\\theta(s)=s$\n",
        "- tanh: $\\theta(s)=\\tanh(s)$\n",
        "- sign: $\\theta(s)=sign(s)$"
      ]
    },
    {
      "cell_type": "code",
      "execution_count": null,
      "id": "2930dfbb",
      "metadata": {
        "ExecuteTime": {
          "end_time": "2022-05-03T16:08:23.575457Z",
          "start_time": "2022-05-03T16:08:23.552816Z"
        },
        "id": "2930dfbb"
      },
      "outputs": [],
      "source": [
        "def tanh(s):\n",
        "    return np.tanh(s)\n",
        "\n",
        "def sign(s):\n",
        "    return np.sign(s)\n",
        "\n",
        "def identity(s):\n",
        "    return s"
      ]
    },
    {
      "cell_type": "markdown",
      "id": "9a5dced0",
      "metadata": {
        "id": "9a5dced0"
      },
      "source": [
        "### Architecture Specification"
      ]
    },
    {
      "cell_type": "code",
      "execution_count": null,
      "id": "5dda3e27",
      "metadata": {
        "ExecuteTime": {
          "end_time": "2022-05-03T16:08:23.824816Z",
          "start_time": "2022-05-03T16:08:23.801884Z"
        },
        "id": "5dda3e27"
      },
      "outputs": [],
      "source": [
        "d = [2, 2, 1]"
      ]
    },
    {
      "cell_type": "markdown",
      "id": "1203ef2e",
      "metadata": {
        "id": "1203ef2e"
      },
      "source": [
        "#### Initializing Weights matrix"
      ]
    },
    {
      "cell_type": "code",
      "execution_count": null,
      "id": "e2597a0f",
      "metadata": {
        "ExecuteTime": {
          "end_time": "2022-05-03T16:08:24.055085Z",
          "start_time": "2022-05-03T16:08:24.031891Z"
        },
        "id": "e2597a0f"
      },
      "outputs": [],
      "source": [
        "def init_weights(d):\n",
        "    L = len(d)\n",
        "    W = [None]\n",
        "    for l in range(1, L):\n",
        "        W.append(np.random.rand(1+d[l-1], d[l]))\n",
        "        # W.append(np.zeros((1+d[l-1], d[l])) + 0.1)\n",
        "        # print(f'layer {l} weights matrix has shape {W[l].shape}')\n",
        "    return W"
      ]
    },
    {
      "cell_type": "code",
      "execution_count": null,
      "id": "c9a7e559",
      "metadata": {
        "ExecuteTime": {
          "end_time": "2022-05-03T16:08:24.271785Z",
          "start_time": "2022-05-03T16:08:24.249781Z"
        },
        "id": "c9a7e559"
      },
      "outputs": [],
      "source": [
        "W = init_weights(d)"
      ]
    },
    {
      "cell_type": "markdown",
      "id": "772114eb",
      "metadata": {
        "id": "772114eb"
      },
      "source": [
        "### Forward Propagation to Compute $h(x)$ Defined by Weights $w$ of a Neural Network\n",
        "\n",
        "$h(x)=x^{(L)}$, where\n",
        "\n",
        "$x^{(0)}=x$, $x$ being the input data point\n",
        "\n",
        "and for each $l=1,\\dots,L$, $x^{(l)}=\\begin{bmatrix}1\\\\ \\theta(s^{(l)})\\\\\\end{bmatrix}$ and $s^{(l)}=(W^{(l)})^T x^{(l-1)}$"
      ]
    },
    {
      "cell_type": "code",
      "execution_count": null,
      "id": "7f7b2d70",
      "metadata": {
        "ExecuteTime": {
          "end_time": "2022-05-03T17:02:36.865355Z",
          "start_time": "2022-05-03T17:02:36.834085Z"
        },
        "id": "7f7b2d70"
      },
      "outputs": [],
      "source": [
        "def forwardNN(d, W, x, output_transform='tanh'):\n",
        "    '''\n",
        "    Input:\n",
        "        d: list of L (no. of layers) integers specifying the neural network architecture\n",
        "        W: list of weight matrices\n",
        "           W[0]=None No weights for input layer, i.e., 0-th layer\n",
        "           for layer l = 1, ..., L:\n",
        "               W[l] is a 1+d[l-1] x d[l] 2D numpy array of real numbers\n",
        "               representing the weights for the l-th layer\n",
        "        x: an input data point, a d[0] x 1 2D numpy array\n",
        "        output_transform: 'tanh' or 'sign', a string\n",
        "    Output:\n",
        "        S: list of length L\n",
        "           S[0] = None\n",
        "           for layer l = 1, ..., L:\n",
        "               S[l] is a d[l] x 1 2D numpy array of real numbers\n",
        "               representing the linear signal at the nodes of layer l\n",
        "        X: list of length L\n",
        "           X[0] = input x\n",
        "           for layer l = 1, ..., L:\n",
        "               X[l] is a 1 + d[l] x 1 2D numpy array of real numbers\n",
        "               representing the outputs of the nodes of layer l\n",
        "            X[L-1][1:, :] is the d[L] x 1 output of the hypothesis (neural network)\n",
        "            defined by weights in input W on data point x\n",
        "    '''\n",
        "    L = len(d)\n",
        "    # print(f'layers {L}')\n",
        "    assert(x.shape == (d[0]+1, 1))\n",
        "    X = [] # Outputs of each layer\n",
        "    S = [None] # inputs to each layer\n",
        "    '''\n",
        "    Initialization\n",
        "    '''\n",
        "    X.append(x)\n",
        "    '''\n",
        "    Forward propagation\n",
        "    '''\n",
        "    for l in range(1, L):\n",
        "        '''\n",
        "        TODO:\n",
        "        Compute linear signals at layer l\n",
        "        Sl = ?\n",
        "        S.append(Sl)\n",
        "        assert(S[l].shape == (d[l], 1)) # always be checking dimensionality\n",
        "        '''\n",
        "        '''\n",
        "        TODO:\n",
        "        Apply theta transformation to compute outputs of layer l\n",
        "        You must be careful to allow the user to specify both the tanh and sign activation functions for the final layer\n",
        "        Xl = ? # may need a few more lines of code\n",
        "        X.append(Xl)\n",
        "        assert(X[l].shape == (1+d[l], 1)) # always be checking dimensionality\n",
        "\n",
        "        '''\n",
        "        if W[l] is None:\n",
        "            Sl = None\n",
        "        else:\n",
        "            Sl = W[l].T @ X[l - 1]\n",
        "        S.append(Sl)\n",
        "        assert(S[l].shape == (d[l], 1))\n",
        "\n",
        "        if l != L - 1:\n",
        "            Zl = np.vstack((np.ones((1, 1)), np.tanh(Sl)))\n",
        "        else:\n",
        "            if output_transform == 'tanh':\n",
        "                Zl = np.vstack((np.ones((1, 1)), np.tanh(Sl)))\n",
        "            elif output_transform == 'sign':\n",
        "                Zl = np.vstack((np.ones((1, 1)), np.sign(Sl)))\n",
        "            else:\n",
        "                raise ValueError(\"Invalid output transform\")\n",
        "\n",
        "        X.append(Zl)\n",
        "        assert(X[l].shape == (1 + d[l], 1))\n",
        "    return S, X"
      ]
    },
    {
      "cell_type": "code",
      "execution_count": null,
      "id": "8a6346f4",
      "metadata": {
        "ExecuteTime": {
          "end_time": "2022-05-03T16:08:24.795422Z",
          "start_time": "2022-05-03T16:08:24.742255Z"
        },
        "id": "8a6346f4",
        "outputId": "94fb1ed4-608a-4997-88b4-d56d0fc40570",
        "colab": {
          "base_uri": "https://localhost:8080/"
        }
      },
      "outputs": [
        {
          "output_type": "stream",
          "name": "stdout",
          "text": [
            "layer 0\n",
            "linear signal S[0]\n",
            "None\n",
            "output X[0]\n",
            "[[1.]\n",
            " [1.]\n",
            " [2.]]\n",
            "layer 1\n",
            "linear signal S[1]\n",
            "[[1.]\n",
            " [1.]]\n",
            "output X[1]\n",
            "[[1.        ]\n",
            " [0.76159416]\n",
            " [0.76159416]]\n",
            "layer 2\n",
            "linear signal S[2]\n",
            "[[0.63079708]]\n",
            "output X[2]\n",
            "[[1.        ]\n",
            " [0.55860082]]\n"
          ]
        }
      ],
      "source": [
        "d = [2, 2, 1]\n",
        "L = len(d)\n",
        "\n",
        "W1 = np.array([[0.25, 0.25], [0.25, 0.25], [0.25, 0.25]])\n",
        "W2 = np.array([[0.25], [0.25], [0.25]])\n",
        "W = [None, W1, W2]\n",
        "\n",
        "x = np.zeros((3, 1))\n",
        "x[0, 0] = 1\n",
        "x[1, 0] = 1\n",
        "x[2, 0] = 2\n",
        "y = 1\n",
        "\n",
        "S, X = forwardNN(d, W, x)\n",
        "\n",
        "for l in range(L):\n",
        "    print(f'layer {l}')\n",
        "    print(f'linear signal S[{l}]')\n",
        "    print(S[l])\n",
        "    print(f'output X[{l}]')\n",
        "    print(X[l])"
      ]
    },
    {
      "cell_type": "markdown",
      "id": "66bc05cf",
      "metadata": {
        "id": "66bc05cf"
      },
      "source": [
        " ### Computing Error $E_{\\text{in}}(w)$\n",
        "\n",
        " $E_{\\text{in}}(w)=E_{\\text{in}}(h)=\\frac{1}{N}\\sum_{n=1}^{N}(h(x)-y)^2$\n",
        "\n",
        " where $h(x)$ is the Neural Network hypothesis function defined by weights $w$."
      ]
    },
    {
      "cell_type": "code",
      "execution_count": null,
      "id": "8bd17670",
      "metadata": {
        "ExecuteTime": {
          "end_time": "2022-05-03T16:08:25.041954Z",
          "start_time": "2022-05-03T16:08:25.004196Z"
        },
        "id": "8bd17670"
      },
      "outputs": [],
      "source": [
        "def computeError(d, W, Xin, yin):\n",
        "    '''\n",
        "    Input:\n",
        "        d: list of L (no. of layers) integers specifying the neural network architecture\n",
        "        W: list of weight matrices\n",
        "           W[0]=None No weights for input layer, i.e., 0-th layer\n",
        "           for layer l = 1, ..., L:\n",
        "               W[l] is a 1+d[l-1] x d[l] 2D numpy array of real numbers\n",
        "               representing the weights for the l-th layer\n",
        "        Xin: an N x d[0] 2D numpy array of input data points\n",
        "        yin: an N x 1 2D numpy array of labels of data points in Xin\n",
        "    Output:\n",
        "        Ein: In-sample error of NN with weights W on dataset with data points Xin and labels yin\n",
        "    '''\n",
        "    L = len(d)\n",
        "    N, din = Xin.shape\n",
        "    assert(din == d[0]+1)\n",
        "    Ein = 0\n",
        "    for n in range(N):\n",
        "        xn = Xin[n, :].T\n",
        "        xn = np.reshape(xn, (din, 1))\n",
        "        yn = yin[n, 0]\n",
        "        '''\n",
        "        Forward propagation\n",
        "        '''\n",
        "        S, X = forwardNN(d, W, xn)\n",
        "        yhat = X[L-1][1, 0]\n",
        "        # print(n, yn, yhat)\n",
        "        Ein += (1/N)*((yhat - yn)**2)\n",
        "    return Ein"
      ]
    },
    {
      "cell_type": "markdown",
      "id": "222822a5",
      "metadata": {
        "ExecuteTime": {
          "end_time": "2022-05-02T14:38:25.116204Z",
          "start_time": "2022-05-02T14:38:25.116204Z"
        },
        "id": "222822a5"
      },
      "source": [
        "### Compute Gradient $\\nabla E_{\\text{in}}(w)$ Using Finite Difference Method\n",
        "\n",
        "\n",
        "At a data point $x$,\n",
        "\n",
        "$\\frac{\\partial e(x)}{\\partial W_{ij}^{(l)}}=\\frac{e(x | W_{ij}^{(l)} + \\Delta) - e(x | W_{ij}^{(l)} - \\Delta)}{2\\Delta}$\n",
        "\n",
        "where\n",
        "\n",
        "$e(x|w) = (h(x)-y)^2$, is the error of the $h$ is the neural network hypothesis function defined by weights $w$ on data point $x$,\n",
        "\n",
        "$W_{ij}^{(l)}$ is the weight on the edge of the neural network connecting the $i$-th node in layer $l-1$ to the $j$-th node in layer $l$,\n",
        "\n",
        "$e(x|W_{ij}^{(l)}+c)$ is the error of the $h$ is the neural network hypothesis function when $W_{ij}^{(l)}$ is perturbed by a constant $c$ and the remaining weights are unchanged and as specified in $w$ on data point $x$,\n",
        "\n",
        "$y$ is the label associated with data point $x$, and\n",
        "\n",
        "$\\Delta$ is a small constant"
      ]
    },
    {
      "cell_type": "code",
      "execution_count": null,
      "id": "1d21c4aa",
      "metadata": {
        "ExecuteTime": {
          "end_time": "2022-05-03T16:08:25.322884Z",
          "start_time": "2022-05-03T16:08:25.268960Z"
        },
        "id": "1d21c4aa"
      },
      "outputs": [],
      "source": [
        "def computeGradientNumerical(d, W, Xin, yin, tol=10**-6):\n",
        "    L = len(d)\n",
        "    N, din = Xin.shape\n",
        "    G = [None] + [np.zeros((1+d[l-1], d[l])) for l in range(1, L)]\n",
        "    for n in range(N):\n",
        "        for l in range(1, L):\n",
        "            for i in range(1+d[l-1]):\n",
        "                for j in range(d[l]):\n",
        "                    x = (Xin[n, :].T).reshape((din, 1))\n",
        "                    y = yin[n, 0]\n",
        "                    W_plus_tol = W\n",
        "                    W_plus_tol[l][i, j] += tol\n",
        "                    S, X = forwardNN(d, W_plus_tol, x, output_transform='tanh')\n",
        "                    yhat = X[L-1][1, 0]\n",
        "                    e_W_plus_tol = (1/N)*((yhat - y)**2)\n",
        "                    W_minus_tol = W\n",
        "                    W_minus_tol[l][i, j] -= tol\n",
        "                    S, X = forwardNN(d, W_minus_tol, x, output_transform='tanh')\n",
        "                    yhat = X[L-1][1, 0]\n",
        "                    e_W_minus_tol = (1/N)*((yhat - y)**2)\n",
        "                    grad = (e_W_plus_tol - e_W_minus_tol) / (2 * tol)\n",
        "                    G[l][i, j] += grad\n",
        "    return G"
      ]
    },
    {
      "cell_type": "markdown",
      "id": "1b3e4e17",
      "metadata": {
        "id": "1b3e4e17"
      },
      "source": [
        "### Compute Gradient $\\nabla E_{\\text{in}}(w)$ Using Backpropagation\n",
        "\n",
        "$\\frac{\\partial e(x)}{\\partial W^{(l)}}=x^{(l-1)}(\\delta^{(l)})^T$,\n",
        "\n",
        "- where $\\delta^{(l)}=\\theta'(s^{(l)})\\odot[W^{(l+1)\\delta^{(l+1)}}]_1^{d^{(l)}}$,\n",
        "\n",
        "    - where $\\theta'(s^{(l)})=[1-x^{(l)}\\odot x^{(l)}]_1^{d^{(l)}}$, and\n",
        "\n",
        "- $\\delta^{(L)}=2(x^{(L)}-y)\\theta'(s^{(L)})$, where $\\theta'(s^{(L)})=1-(x^{(L)})^2$\n",
        "\n",
        "TODO:\n",
        "- Implement the algorithm to compute the gradient using backpropagation in two steps below"
      ]
    },
    {
      "cell_type": "markdown",
      "id": "6b4a1bc3",
      "metadata": {
        "id": "6b4a1bc3"
      },
      "source": [
        "#### Compute Sensitivities using Backpropagation\n",
        "\n",
        "$\\delta^{(l)}=\\theta'(s^{(l)})\\odot[W^{(l+1)\\delta^{(l+1)}}]_1^{d^{(l)}}$\n",
        "\n",
        "$\\delta^{(L)}=2(x^{(L)}-y)\\theta'(s^{(L)})$, where $\\theta'(s^{(L)})=1-(x^{(L)})^2$\n",
        "\n",
        "TODO:\n",
        "- Implement the backpropagation algorithm to compute the sensitivities of the error to the linear signal at each layer"
      ]
    },
    {
      "cell_type": "code",
      "execution_count": null,
      "id": "77552c6d",
      "metadata": {
        "ExecuteTime": {
          "end_time": "2022-05-03T16:08:25.602089Z",
          "start_time": "2022-05-03T16:08:25.548254Z"
        },
        "id": "77552c6d"
      },
      "outputs": [],
      "source": [
        "def backwardNNsensitivity(d, W, x, y, output_transform='tanh'):\n",
        "    '''\n",
        "    Input:\n",
        "        d: list of L (no. of layers) integers specifying the neural network architecture\n",
        "        W: list of weight matrices\n",
        "           W[0]=None No weights for input layer, i.e., 0-th layer\n",
        "           for layer l = 1, ..., L:\n",
        "               W[l] is a 1+d[l-1] x d[l] 2D numpy array of real numbers\n",
        "               representing the weights for the l-th layer\n",
        "        x: an input data point, a d[0] x 1 2D numpy array\n",
        "        y: label of input data point x, a real number\n",
        "        output_transform: 'tanh' or 'sign', a string\n",
        "    Output:\n",
        "        deltas: list of sensitivities of the error to the linear signals at each layer\n",
        "                for layer l = 1, ..., L:\n",
        "                    deltas[l] is a d[l] x 1 2D numpy array\n",
        "    '''\n",
        "    L = len(d)\n",
        "    # print(f'layers {L}')\n",
        "    S, X = forwardNN(d, W, x) # forward propagation\n",
        "    deltas = [None] + [np.zeros((d[l], 1)) for l in range(1, L)]\n",
        "    '''\n",
        "    Initialization\n",
        "    TODO:\n",
        "    thetaprime = 1\n",
        "    if output_transform == 'tanh':\n",
        "        thetaprime = ?\n",
        "    assert(thetaprime.shape == (d[L-1], 1)) # always be checking dimensionality\n",
        "    deltas[L-1] = (?*thetaprime).reshape((1, 1))\n",
        "    assert(deltas[L-1].shape == (d[L-1], 1)) # always be checking dimensionality\n",
        "    '''\n",
        "    '''\n",
        "    Backpropagation\n",
        "    '''\n",
        "    # for l in range(L-2, 0, -1):\n",
        "    #     # print(f'layer {l} of {L-1}')\n",
        "    #     '''\n",
        "    #     Compute sensitivity at layer l\n",
        "    #     TODO:\n",
        "    #     thetaprime = ?\n",
        "    #     assert(thetaprime.shape == (d[l], 1)) # always be checking dimensionality\n",
        "    #     deltas[l] = ?\n",
        "    #     assert(deltas[l].shape == (d[l], 1)) # always be checking dimensionality\n",
        "    #     '''\n",
        "\n",
        "    thetaprime = np.ones((d[L-1], 1))\n",
        "    if output_transform == 'tanh':\n",
        "        thetaprime = 1 - X[L-1][1:, :] ** 2\n",
        "    assert(thetaprime.shape == (d[L-1], 1))  # always be checking dimensionality\n",
        "    deltas[L-1] = (2 * (X[L-1][1:, :] - y) * thetaprime).reshape((d[L-1], 1))\n",
        "    assert(deltas[L-1].shape == (d[L-1], 1))  # always be checking dimensionality\n",
        "\n",
        "    '''\n",
        "    Backpropagation\n",
        "    '''\n",
        "    for l in range(L-2, 0, -1):\n",
        "        # print(f'layer {l} of {L-1}')\n",
        "        '''\n",
        "        Compute sensitivity at layer l\n",
        "        '''\n",
        "        thetaprime = 1 - X[l][1:, :] ** 2\n",
        "        assert(thetaprime.shape == (d[l], 1))  # always be checking dimensionality\n",
        "        deltas[l] = thetaprime * (W[l+1][1:, :] @ deltas[l+1])\n",
        "        assert(deltas[l].shape == (d[l], 1))  # always be checking dimensionality\n",
        "    return deltas"
      ]
    },
    {
      "cell_type": "markdown",
      "id": "d01ce439",
      "metadata": {
        "id": "d01ce439"
      },
      "source": [
        "#### Computing the Gradient $\\nabla E_{\\text{in}}(w)$\n",
        "\n",
        "$\\frac{\\partial e(x)}{\\partial W^{(l)}}=x^{(l-1)}(\\delta^{(l)})^T$\n",
        "\n",
        "TODO:\n",
        "- Implement the algorithm to compute the gradient using backpropagation"
      ]
    },
    {
      "cell_type": "code",
      "execution_count": null,
      "id": "4d0b1ff7",
      "metadata": {
        "ExecuteTime": {
          "end_time": "2022-05-03T16:08:25.866162Z",
          "start_time": "2022-05-03T16:08:25.812037Z"
        },
        "id": "4d0b1ff7"
      },
      "outputs": [],
      "source": [
        "def computeGradientBackpropagation(d, W, Xin, yin):\n",
        "    '''\n",
        "    Input:\n",
        "        d: list of L (no. of layers) integers specifying the neural network architecture\n",
        "        W: list of weight matrices\n",
        "           W[0]=None No weights for input layer, i.e., 0-th layer\n",
        "           for layer l = 1, ..., L:\n",
        "               W[l] is a 1+d[l-1] x d[l] 2D numpy array of real numbers\n",
        "               representing the weights for the l-th layer\n",
        "        Xin: an N x d[0] 2D numpy array of input data points\n",
        "        yin: an N x 1 2D numpy array of labels of data points in Xin\n",
        "    Output:\n",
        "        Ein: In-sample error of NN with weights W on dataset with data points Xin and labels yin\n",
        "        G: list of gradients for each layer\n",
        "            G[0]=None\n",
        "            for layer l = 1, ..., L:\n",
        "                G[l] is a 1+d[l-1] x d[l] 2D numpy array of partial derivatives of e w.r.t. W[l]\n",
        "    '''\n",
        "    L = len(d)\n",
        "    N, din = Xin.shape\n",
        "    assert(din == d[0]+1)\n",
        "    '''\n",
        "    Initialization\n",
        "    '''\n",
        "    Ein = 0\n",
        "    G = [None] + [np.zeros((1+d[l-1], d[l])) for l in range(1, L)]\n",
        "\n",
        "    for n in range(N):\n",
        "        '''\n",
        "        Read in the data point\n",
        "        '''\n",
        "        xn = Xin[n, :].reshape((din, 1))\n",
        "        yn = yin[n, 0]\n",
        "\n",
        "        '''\n",
        "        Forward propagation\n",
        "        '''\n",
        "        S, X = forwardNN(d, W, xn)\n",
        "        yhat = X[L-1][1, 0]\n",
        "\n",
        "        '''\n",
        "        Backward propagation\n",
        "        '''\n",
        "        deltas = backwardNNsensitivity(d, W, xn, yn)\n",
        "\n",
        "        for l in range(L-1, 0, -1):\n",
        "            G_l_xn = X[l-1] @ deltas[l].T\n",
        "            G[l] += G_l_xn\n",
        "\n",
        "        '''\n",
        "        Compute Ein\n",
        "        '''\n",
        "        Ein += (1/N) * (yhat - yn)**2\n",
        "    return Ein, G"
      ]
    },
    {
      "cell_type": "markdown",
      "id": "aaa0c230",
      "metadata": {
        "id": "aaa0c230"
      },
      "source": [
        "### Test\n",
        "\n",
        "The directions of the gradient \"vector\" must be nearly identical, even if their magnitudes are off by a factor of 2 using the two different methods."
      ]
    },
    {
      "cell_type": "code",
      "execution_count": null,
      "id": "0488709e",
      "metadata": {
        "ExecuteTime": {
          "end_time": "2022-05-03T16:08:26.146208Z",
          "start_time": "2022-05-03T16:08:26.078616Z"
        },
        "id": "0488709e",
        "outputId": "c285cbf3-9010-4860-dd14-361dab798064",
        "colab": {
          "base_uri": "https://localhost:8080/"
        }
      },
      "outputs": [
        {
          "output_type": "stream",
          "name": "stdout",
          "text": [
            "Backpropogation\n",
            "layer 1\n",
            "[[0.25 0.25]\n",
            " [0.25 0.25]\n",
            " [0.25 0.25]]\n",
            "gradient using backpropagation G[1] / ||G[1]||\n",
            "[[-0.28867513 -0.28867513]\n",
            " [-0.28867513 -0.28867513]\n",
            " [-0.57735027 -0.57735027]]\n",
            "layer 2\n",
            "[[0.25]\n",
            " [0.25]\n",
            " [0.25]]\n",
            "gradient using backpropagation G[2] / ||G[2]||\n",
            "[[-0.68040574]\n",
            " [-0.51819303]\n",
            " [-0.51819303]]\n",
            "############################################################## \n",
            "\n",
            "\n",
            "Numerical \n",
            "layer 1\n",
            "[[0.25 0.25]\n",
            " [0.25 0.25]\n",
            " [0.25 0.25]]\n",
            "gradient using numerical G[1] / ||G[1]||\n",
            "[[-0.28867531 -0.28867531]\n",
            " [-0.28867531 -0.28867531]\n",
            " [-0.5773501  -0.5773501 ]]\n",
            "layer 2\n",
            "[[0.25]\n",
            " [0.25]\n",
            " [0.25]]\n",
            "gradient using numerical G[2] / ||G[2]||\n",
            "[[-0.68040562]\n",
            " [-0.51819311]\n",
            " [-0.51819311]]\n"
          ]
        }
      ],
      "source": [
        "d = [2, 2, 1]\n",
        "L = len(d)\n",
        "\n",
        "W1 = np.array([[0.25, 0.25], [0.25, 0.25], [0.25, 0.25]])\n",
        "W2 = np.array([[0.25], [0.25], [0.25]])\n",
        "W = [None, W1, W2]\n",
        "\n",
        "x = np.zeros((3, 1))\n",
        "x[0, 0] = 1\n",
        "x[1, 0] = 1\n",
        "x[2, 0] = 2\n",
        "y = 1\n",
        "\n",
        "Xexp = (x.T).reshape((1, 3))\n",
        "yexp = np.array(y).reshape((1, 1))\n",
        "\n",
        "\n",
        "Gnumerical = computeGradientNumerical(d, W, Xexp, yexp)\n",
        "Ein, Gbackprop = computeGradientBackpropagation(d, W, Xexp, yexp)\n",
        "\n",
        "print (\"Backpropogation\")\n",
        "for l in range(1, L):\n",
        "    print(f'layer {l}')\n",
        "    print(W[l])\n",
        "    print(f'gradient using backpropagation G[{l}] / ||G[{l}]||')\n",
        "    print(Gbackprop[l]/np.linalg.norm(Gbackprop[l]))\n",
        "\n",
        "print(\"############################################################## \\n\\n\")\n",
        "print (\"Numerical \")\n",
        "for l in range(1, L):\n",
        "    print(f'layer {l}')\n",
        "    print(W[l])\n",
        "    print(f'gradient using numerical G[{l}] / ||G[{l}]||')\n",
        "    print(Gnumerical[l]/np.linalg.norm(Gnumerical[l]))"
      ]
    },
    {
      "cell_type": "markdown",
      "id": "e4ab0f90",
      "metadata": {
        "id": "e4ab0f90"
      },
      "source": [
        "### Stochastic Gradient Descent to Fit Data\n",
        "\n",
        "In each iteration,\n",
        "- Pick a random data point $x$ from the training set\n",
        "- Compute gradient of the error function with current weights $w$ on the data point $x$\n",
        "- Update the weights $w(t+1)\\gets w(t)-\\eta\\nabla E_{\\text{in}}(w(t))$\n",
        "\n",
        "TODO:\n",
        "- Implement variable learning rate to set $\\eta$\n",
        "- Implement early stopping as a regularization measure to prevent overfitting"
      ]
    },
    {
      "cell_type": "code",
      "execution_count": null,
      "id": "b6a63cbe",
      "metadata": {
        "ExecuteTime": {
          "end_time": "2022-05-03T16:08:26.488486Z",
          "start_time": "2022-05-03T16:08:26.434234Z"
        },
        "id": "b6a63cbe"
      },
      "outputs": [],
      "source": [
        "def stochasticGradientDescent(d, Xin, yin, eta=0.01, alpha=1, beta=1, max_iters=10**6):\n",
        "    L = len(d)\n",
        "    N, din = Xin.shape\n",
        "    Eins = []\n",
        "    W = init_weights(d)\n",
        "    iteration = 0\n",
        "\n",
        "    while iteration < max_iters:\n",
        "        n = np.random.randint(low=0, high=N)\n",
        "        Xn = Xin[n, :].reshape((1, din))\n",
        "\n",
        "        # Compute Ein before update at current weights W on all N data points\n",
        "        Ein_W = computeError(d, W, Xin, yin)\n",
        "\n",
        "        # Compute gradient using backpropagation\n",
        "        Ein, G = computeGradientBackpropagation(d, W, Xin, yin)\n",
        "\n",
        "        # Compute updated weights\n",
        "        Wtmp = [None] + [Wl - eta * Gl for Wl, Gl in zip(W[1:], G[1:])]\n",
        "\n",
        "        # Compute Ein after update at Wtmp on all N data points\n",
        "        Ein_Wtmp = computeError(d, Wtmp, Xin, yin)\n",
        "\n",
        "        if Ein_Wtmp < Ein_W:\n",
        "            W = Wtmp\n",
        "            eta *= alpha\n",
        "        else:\n",
        "            eta *= beta\n",
        "\n",
        "        Eins.append(Ein_Wtmp)\n",
        "        iteration += 1\n",
        "\n",
        "    plt.plot(range(max_iters), Eins)\n",
        "    plt.xlabel('# iterations')\n",
        "    plt.ylabel('Ein')\n",
        "    plt.show()\n",
        "\n",
        "    return W"
      ]
    },
    {
      "cell_type": "code",
      "execution_count": null,
      "id": "312e4983",
      "metadata": {
        "ExecuteTime": {
          "end_time": "2022-05-03T17:02:30.153098Z",
          "start_time": "2022-05-03T16:08:26.747332Z"
        },
        "id": "312e4983",
        "outputId": "5660beb6-f8af-47ae-d935-d3c476f6db5c",
        "colab": {
          "base_uri": "https://localhost:8080/",
          "height": 449
        }
      },
      "outputs": [
        {
          "output_type": "display_data",
          "data": {
            "text/plain": [
              "<Figure size 640x480 with 1 Axes>"
            ],
            "image/png": "[encoded data removed]"
          },
          "metadata": {}
        }
      ],
      "source": [
        "# architecture\n",
        "d = [2, 10, 1]\n",
        "W = stochasticGradientDescent(d, Xin, yin, eta=0.1, alpha=1.1, beta=0.8, max_iters=2*10**4)"
      ]
    },
    {
      "cell_type": "markdown",
      "id": "d988d2c4",
      "metadata": {
        "id": "d988d2c4"
      },
      "source": [
        "#### Make predictions"
      ]
    },
    {
      "cell_type": "code",
      "execution_count": null,
      "id": "0203ec97",
      "metadata": {
        "ExecuteTime": {
          "end_time": "2022-05-03T17:02:30.330478Z",
          "start_time": "2022-05-03T17:02:30.314934Z"
        },
        "id": "0203ec97"
      },
      "outputs": [],
      "source": [
        "def predictClassNN(d, W, Xtest):\n",
        "    '''\n",
        "    Predict class using Neural Network\n",
        "    Input:\n",
        "        d: list of L (no. of layers) integers specifying the neural network architecture\n",
        "        W: list of weight matrices\n",
        "           W[0]=None No weights for input layer, i.e., 0-th layer\n",
        "           for layer l = 1, ..., L:\n",
        "               W[l] is a 1+d[l-1] x d[l] 2D numpy array of real numbers\n",
        "               representing the weights for the l-th layer\n",
        "        Xin: an N x d[0] 2D numpy array of input data points\n",
        "\n",
        "    Output:\n",
        "        ytest: a 2D Ntest x 1 anumpy array of predicted classes of examples in Xtest\n",
        "    '''\n",
        "    N, dtest = Xtest.shape\n",
        "    yhat = np.zeros((N, 1))\n",
        "    for n in range(N):\n",
        "        xtest = Xtest[n, :].reshape((dtest, 1))\n",
        "        assert(xtest.shape == (d[0]+1, 1))\n",
        "        S, X = forwardNN(d, W, xtest, output_transform='sign')\n",
        "        yhat[n, 0] = X[L-1][1, 0]\n",
        "    return yhat"
      ]
    },
    {
      "cell_type": "markdown",
      "id": "a4e5fcbd",
      "metadata": {
        "id": "a4e5fcbd"
      },
      "source": [
        "#### Plot decision boundary"
      ]
    },
    {
      "cell_type": "code",
      "execution_count": null,
      "id": "73736df9",
      "metadata": {
        "ExecuteTime": {
          "end_time": "2022-05-03T17:02:30.437337Z",
          "start_time": "2022-05-03T17:02:30.419389Z"
        },
        "id": "73736df9"
      },
      "outputs": [],
      "source": [
        "def plotNNSeparator(X, y, d, W, title=''):\n",
        "    '''\n",
        "    Plot the \"effective\" decision boundary and half spaces\n",
        "    determined by the k Nearest Neighbors Algorithm\n",
        "    Input:\n",
        "        X: a 2 dimensional N x d numpy array\n",
        "           The n-th row X[n, :] contains features for the n-th example in the training set\n",
        "           X[n, 0], ..., X[n, d-1] have values of features\n",
        "        y: a 2 dimensional N x 1 numpy array\n",
        "           y[i, 0] is the label associated with the i-th example\n",
        "        k: positive integer\n",
        "        title: a string\n",
        "    Output:\n",
        "        No output\n",
        "    '''\n",
        "    fig, axs = plt.subplots(figsize=(10, 10))\n",
        "    '''\n",
        "    Plot separator\n",
        "    '''\n",
        "    pltx1s = np.linspace(-1, 1, 250)\n",
        "    pltx2s = np.linspace(-1, 1, 250)\n",
        "    pltX = np.array([[1, x, y] for x in pltx1s for y in pltx2s])\n",
        "    pltyhat = predictClassNN(d, W, pltX)\n",
        "    pltx1s = pltX[:, 1].reshape((pltX.shape[0], 1))\n",
        "    pltx2s = pltX[:, 2].reshape((pltX.shape[0], 1))\n",
        "    cmap = ListedColormap(['lightcoral', 'lightskyblue'])\n",
        "    axs.scatter(pltx1s, pltx2s, c=pltyhat, cmap=cmap)\n",
        "    '''\n",
        "    Plot data points\n",
        "    '''\n",
        "    plus1s = np.where(y == 1)[0]\n",
        "    minus1s = np.where(y == -1)[0]\n",
        "    Xplus1s = X[plus1s, :]\n",
        "    Xminus1s = X[minus1s, :]\n",
        "    axs.scatter(Xplus1s[:, 1], Xplus1s[:, 2], marker='o',\n",
        "                color='blue', facecolors='none', label='1')\n",
        "    axs.scatter(Xminus1s[:, 1], Xminus1s[:, 2],\n",
        "                marker='x', color='red', label='Not 1')\n",
        "    '''\n",
        "    Finishing touches\n",
        "    '''\n",
        "    axs.set_xlim(-1, 1)\n",
        "    axs.set_ylim(-1, 1)\n",
        "    axs.set_xlabel('intensity')\n",
        "    axs.set_ylabel('symmetry')\n",
        "    axs.set_title(title)\n",
        "    axs.legend()\n",
        "    plt.show()"
      ]
    },
    {
      "cell_type": "code",
      "execution_count": null,
      "id": "027bdc6d",
      "metadata": {
        "ExecuteTime": {
          "end_time": "2022-05-03T17:02:36.747456Z",
          "start_time": "2022-05-03T17:02:30.503187Z"
        },
        "id": "027bdc6d",
        "outputId": "25ef49e1-64af-4389-f301-a640cc1797ec",
        "colab": {
          "base_uri": "https://localhost:8080/",
          "height": 872
        }
      },
      "outputs": [
        {
          "output_type": "display_data",
          "data": {
            "text/plain": [
              "<Figure size 1000x1000 with 1 Axes>"
            ],
            "image/png": "[encoded data removed]"
          },
          "metadata": {}
        }
      ],
      "source": [
        "plotNNSeparator(Xin, yin, d, W, title=f'Neural Network')"
      ]
    },
    {
      "cell_type": "code",
      "execution_count": null,
      "id": "5d4fb343",
      "metadata": {
        "id": "5d4fb343"
      },
      "outputs": [],
      "source": [
        "def stochasticGradientDescentWithWeightDecay(d, Xin, yin, eta=0.01, lambda_val=0.01, alpha=1, beta=1, max_iters=10**6):\n",
        "    L = len(d)\n",
        "    N, din = Xin.shape\n",
        "    Eins = []\n",
        "    W = init_weights(d)\n",
        "    iteration = 0\n",
        "\n",
        "    while iteration < max_iters:\n",
        "        n = np.random.randint(low=0, high=N)\n",
        "        Xn = Xin[n, :].reshape((1, din))\n",
        "\n",
        "        # Compute Ein before update at current weights W on all N data points\n",
        "        Ein_W = computeError(d, W, Xin, yin)\n",
        "\n",
        "        # Compute gradient using backpropagation\n",
        "        Ein, G = computeGradientBackpropagation(d, W, Xin, yin)\n",
        "\n",
        "        # Add weight decay term to the gradient\n",
        "        for l in range(1, L):\n",
        "            G[l] += 2 * lambda_val * W[l]\n",
        "\n",
        "        # Compute updated weights\n",
        "        Wtmp = [None] + [Wl - eta * Gl for Wl, Gl in zip(W[1:], G[1:])]\n",
        "\n",
        "        # Compute Ein after update at Wtmp on all N data points\n",
        "        Ein_Wtmp = computeError(d, Wtmp, Xin, yin)\n",
        "\n",
        "        if Ein_Wtmp < Ein_W:\n",
        "            W = Wtmp\n",
        "            eta *= alpha\n",
        "        else:\n",
        "            eta *= beta\n",
        "\n",
        "        Eins.append(Ein_Wtmp)\n",
        "        iteration += 1\n",
        "\n",
        "    plt.plot(range(max_iters), Eins)\n",
        "    plt.xlabel('# iterations')\n",
        "    plt.ylabel('Ein')\n",
        "    plt.show()\n",
        "\n",
        "    return W\n"
      ]
    },
    {
      "cell_type": "code",
      "source": [
        "# architecture\n",
        "d = [2, 10, 1]\n",
        "W_dec = stochasticGradientDescentWithWeightDecay(d, Xin, yin, eta=0.1, alpha=1.1, beta=0.8, max_iters=10**5)"
      ],
      "metadata": {
        "colab": {
          "base_uri": "https://localhost:8080/",
          "height": 449
        },
        "id": "Rmdk_klhz-9d",
        "outputId": "61de1647-0722-44d6-819f-58686415b6a2"
      },
      "id": "Rmdk_klhz-9d",
      "execution_count": null,
      "outputs": [
        {
          "output_type": "display_data",
          "data": {
            "text/plain": [
              "<Figure size 640x480 with 1 Axes>"
            ],
            "image/png": "[encoded data removed]"
          },
          "metadata": {}
        }
      ]
    },
    {
      "cell_type": "code",
      "source": [
        "plotNNSeparator(Xin, yin, d, W_dec, title=f'Weight Decay Neural Network')"
      ],
      "metadata": {
        "colab": {
          "base_uri": "https://localhost:8080/",
          "height": 872
        },
        "id": "LsOqdvnl6cga",
        "outputId": "7023ba34-be9c-482e-e7b5-0563ad9d7ce4"
      },
      "id": "LsOqdvnl6cga",
      "execution_count": null,
      "outputs": [
        {
          "output_type": "display_data",
          "data": {
            "text/plain": [
              "<Figure size 1000x1000 with 1 Axes>"
            ],
            "image/png": "[encoded data removed]"
          },
          "metadata": {}
        }
      ]
    }
  ],
  "metadata": {
    "kernelspec": {
      "display_name": "Python 3",
      "name": "python3"
    },
    "language_info": {
      "codemirror_mode": {
        "name": "ipython",
        "version": 3
      },
      "file_extension": ".py",
      "mimetype": "text/x-python",
      "name": "python",
      "nbconvert_exporter": "python",
      "pygments_lexer": "ipython3",
      "version": "3.8.12"
    },
    "toc": {
      "base_numbering": 1,
      "nav_menu": {},
      "number_sections": false,
      "sideBar": true,
      "skip_h1_title": false,
      "title_cell": "Table of Contents",
      "title_sidebar": "Contents",
      "toc_cell": false,
      "toc_position": {
        "height": "calc(100% - 180px)",
        "left": "10px",
        "top": "150px",
        "width": "181.794px"
      },
      "toc_section_display": true,
      "toc_window_display": true
    },
    "varInspector": {
      "cols": {
        "lenName": 16,
        "lenType": 16,
        "lenVar": 40
      },
      "kernels_config": {
        "python": {
          "delete_cmd_postfix": "",
          "delete_cmd_prefix": "del ",
          "library": "var_list.py",
          "varRefreshCmd": "print(var_dic_list())"
        },
        "r": {
          "delete_cmd_postfix": ") ",
          "delete_cmd_prefix": "rm(",
          "library": "var_list.r",
          "varRefreshCmd": "cat(var_dic_list()) "
        }
      },
      "types_to_exclude": [
        "module",
        "function",
        "builtin_function_or_method",
        "instance",
        "_Feature"
      ],
      "window_display": false
    },
    "colab": {
      "provenance": [],
      "gpuType": "T4",
      "include_colab_link": true
    }
  },
  "nbformat": 4,
  "nbformat_minor": 5
}