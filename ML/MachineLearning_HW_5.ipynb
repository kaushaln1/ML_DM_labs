{
  "nbformat": 4,
  "nbformat_minor": 0,
  "metadata": {
    "colab": {
      "provenance": [],
      "authorship_tag": "ABX9TyOCIy3wNHhsuVGQONcScvuB",
      "include_colab_link": true
    },
    "kernelspec": {
      "name": "python3",
      "display_name": "Python 3"
    },
    "language_info": {
      "name": "python"
    }
  },
  "cells": [
    {
      "cell_type": "markdown",
      "metadata": {
        "id": "view-in-github",
        "colab_type": "text"
      },
      "source": [
        "<a href=\"https://colab.research.google.com/github/kaushaln1/ML_DM_labs/blob/main/ML/MachineLearning_HW_5.ipynb\" target=\"_parent\"><img src=\"https://colab.research.google.com/assets/colab-badge.svg\" alt=\"Open In Colab\"/></a>"
      ]
    },
    {
      "cell_type": "code",
      "execution_count": null,
      "metadata": {
        "colab": {
          "base_uri": "https://localhost:8080/"
        },
        "id": "opVnGPrhJEJC",
        "outputId": "f4c69b61-f0c7-4069-accb-23b04e3e0af7"
      },
      "outputs": [
        {
          "output_type": "stream",
          "name": "stdout",
          "text": [
            "Drive already mounted at /content/drive; to attempt to forcibly remount, call drive.mount(\"/content/drive\", force_remount=True).\n"
          ]
        }
      ],
      "source": [
        "from google.colab import drive\n",
        "drive.mount('/content/drive')"
      ]
    },
    {
      "cell_type": "code",
      "source": [
        "%run /content/drive/MyDrive/Colab\\ Notebooks/RegularizationValidation.ipynb\n"
      ],
      "metadata": {
        "id": "qBJ0VASlJOrJ"
      },
      "execution_count": null,
      "outputs": []
    },
    {
      "cell_type": "code",
      "source": [],
      "metadata": {
        "id": "2IYjPcfIr7rm"
      },
      "execution_count": null,
      "outputs": []
    },
    {
      "cell_type": "code",
      "source": [
        "'''\n",
        "Read training and test datasets\n",
        "'''\n",
        "execute = True\n",
        "'''\n",
        "Reading the MNIST/USPS Handwritten Digits Dataset\n",
        "'''\n",
        "\n",
        "def readData(fname='ZipDigits.train'):\n",
        "    '''\n",
        "    Input:\n",
        "        fname: name of file containing N examples, each with d attributes\n",
        "    Output:\n",
        "        X: N x d+1 numpy array\n",
        "        y: N x 1 numpy array\n",
        "    '''\n",
        "    with open(fname) as f:\n",
        "        X = []\n",
        "        y = []\n",
        "        rlines = f.readlines()\n",
        "        for line in rlines:\n",
        "            row = line.rstrip().split(' ')\n",
        "            yval = int(float(row[0]))\n",
        "            if yval in range (1,6):\n",
        "              y.append(yval)\n",
        "              xvals = [float(pixel) for pixel in row[1:]]\n",
        "              X.append(xvals)\n",
        "        X = np.array(X)\n",
        "        y = np.array(y)\n",
        "        y = y.reshape((y.shape[0], 1))\n",
        "        print(f'X shape: {X.shape}')\n",
        "        print(f'y shape: {y.shape}')\n",
        "        return X, y\n",
        "if execute:\n",
        "    Xdigitstrain, ydigitstrain = readData('/content/drive/MyDrive/Colab Notebooks/ZipDigits.train')\n",
        "\n",
        "    Ndigitstrain, pixels = Xdigitstrain.shape\n",
        "\n",
        "    assert(Ndigitstrain == ydigitstrain.shape[0])\n",
        "\n",
        "    print(f'Xdigitstrain shape {Xdigitstrain.shape}, ydigitstrain shape {ydigitstrain.shape}')\n",
        "\n",
        "\n",
        "if execute:\n",
        "    Xdigitstest, ydigitstest = readData('/content/drive/MyDrive/Colab Notebooks/ZipDigits.test')\n",
        "\n",
        "    Ndigitstest, pixels = Xdigitstest.shape\n",
        "\n",
        "    assert(Ndigitstest == ydigitstest.shape[0])\n",
        "\n",
        "    print(f'Xdigitstest shape {Xdigitstest.shape}, ydigitstest shape {ydigitstest.shape}')"
      ],
      "metadata": {
        "colab": {
          "base_uri": "https://localhost:8080/"
        },
        "id": "c12TwbUZOpOz",
        "outputId": "6e4ad939-405b-498d-8876-f96b62184330"
      },
      "execution_count": null,
      "outputs": [
        {
          "output_type": "stream",
          "name": "stdout",
          "text": [
            "X shape: (3602, 256)\n",
            "y shape: (3602, 1)\n",
            "Xdigitstrain shape (3602, 256), ydigitstrain shape (3602, 1)\n",
            "X shape: (988, 256)\n",
            "y shape: (988, 1)\n",
            "Xdigitstest shape (988, 256), ydigitstest shape (988, 1)\n"
          ]
        }
      ]
    },
    {
      "cell_type": "code",
      "source": [
        "'''\n",
        "Compute the augmented matrix with features\n",
        "Helper Functions\n",
        "'''\n",
        "\n",
        "def computeIntensity(X):\n",
        "    '''\n",
        "    Input:\n",
        "        X: a 2 dimensional N x 256 numpy array\n",
        "           each row contains the values of 256 pixels from a 16 x 16 grayscale image of a handwritten digit\n",
        "           each pixel has an intensity value between -1 and 1\n",
        "    Output:\n",
        "        intensities: a 2 dimensional N x 1 numpy array\n",
        "                     each row consists of a single value representing the\n",
        "                     average pixel intesity of the corresponding image\n",
        "                     See LFD Example 3.1\n",
        "    '''\n",
        "    print('computing intensity feature')\n",
        "    N, d = X.shape\n",
        "    print(f'Input shape {N}, {d}')\n",
        "    '''\n",
        "    TODO: Compute the intensity feature for N data points\n",
        "    '''\n",
        "    intensities = []\n",
        "    for i in range(0,N):\n",
        "      avg=sum(X[i])/d\n",
        "      intensities.append(avg)\n",
        "\n",
        "    intensities = np.array(intensities)\n",
        "    intensities= intensities.reshape(N, 1)\n",
        "    print(f'Output shape {intensities.shape}')\n",
        "\n",
        "    return intensities\n",
        "\n",
        "\n",
        "def computeSymmetry(X):\n",
        "    '''\n",
        "    Input:\n",
        "        X: a 2 dimensional N x 256 numpy array\n",
        "           each row contains the values of 256 pixels from a 16 x 16 grayscale image of a handwritten digit\n",
        "           each pixel has an intensity value between -1 and 1\n",
        "    Output:\n",
        "        symmetries: a 2 dimensional N x 1 numpy array\n",
        "                     each row consists of a single value representing the\n",
        "                     \"horizontal\" symmetry of the 16 x 16 image about the vertical axis\n",
        "                     See LFD Example 3.1\n",
        "    '''\n",
        "    print('computing symmetry feature')\n",
        "    N, d = X.shape\n",
        "    print(f'Input shape {N}, {d}')\n",
        "    Ximgs = [X[n, :].reshape((16, 16)) for n in range(N)]\n",
        "    Ximgs_flipped = [np.flip(Ximgs[n], axis=1) for n in range(N)]\n",
        "    '''\n",
        "    TODO: Compute the symmetry feature for N data points\n",
        "    '''\n",
        "\n",
        "    Ximgs = np.array(Ximgs)\n",
        "    Ximgs_flipped = np.array(Ximgs_flipped)\n",
        "    #print(\"Shpae of X img\" ,np.shape(Ximgs) , np.shape(Ximgs[0]) )\n",
        "    symmetries = []\n",
        "    for i in range (0, N):\n",
        "      avg_absolute_diff = sum(sum(abs(np.subtract(Ximgs[i] , Ximgs_flipped[i]))))/d\n",
        "      #diff_array = np.subtract(Ximgs[i],Ximgs_flipped[i])\n",
        "      #avg_absolute_diff =\n",
        "      symmetries.append(avg_absolute_diff)\n",
        "\n",
        "    # for i in range(N):\n",
        "    #   diff = 0\n",
        "    #   for j in range(16):\n",
        "    #     diff+= abs(sum(np.subtract(Ximgs[i][j],Ximgs_flipped[i][j])))\n",
        "    #   symmetries.append(diff)\n",
        "\n",
        "    symmetries = np.array(symmetries)\n",
        "    symmetries = symmetries.reshape(N, 1)\n",
        "    print(f'Output shape {symmetries.shape}')\n",
        "    return -symmetries\n",
        "\n",
        "\n",
        "def computeAugmentedXWithFeatures(X):\n",
        "    '''\n",
        "    Input:\n",
        "        X: a 2 dimensional N x 256 numpy array\n",
        "           each row contains the values of 256 pixels from a 16 x 16 grayscale image of a handwritten digit\n",
        "           each pixel has an intensity value between -1 and 1\n",
        "    Output:\n",
        "        Xaug: a 2 dimensional N x 3 numpy array\n",
        "              the augmented feature matrix\n",
        "              the i-th row corresponds to the i-th row of X (and image represented by it)\n",
        "              the 0-th column is the column of 1s\n",
        "              the 1-st column is the column of average intensities\n",
        "              the 2-nd column is the column of horizontal symmetries\n",
        "    '''\n",
        "    N, d = X.shape\n",
        "    intensity = computeIntensity(X)\n",
        "    symmetry = computeSymmetry(X)\n",
        "    dummy = np.ones((N, 1))\n",
        "    Xaug = np.concatenate((dummy, intensity, symmetry), axis=1)\n",
        "    # print(Xaug)\n",
        "    print (f'Shape of augmented feature matrix: {Xaug.shape}')\n",
        "    return Xaug\n",
        "'''\n",
        "Compute the augmented matrix with features\n",
        "'''\n",
        "\n",
        "print('Computing augmented training feature matrix')\n",
        "\n",
        "Xaugtrain = computeAugmentedXWithFeatures(Xdigitstrain)\n",
        "\n",
        "Naugtrain, d = Xaugtrain.shape\n",
        "\n",
        "print('Computing augmented test feature matrix')\n",
        "\n",
        "Xaugtest = computeAugmentedXWithFeatures(Xdigitstest)\n",
        "\n",
        "Naugtest, d = Xaugtest.shape\n",
        "\n",
        "'''\n",
        "Create the dataset wih digits 1 and 5\n",
        "'''\n",
        "\n",
        "def indexDigits(y):\n",
        "    '''\n",
        "    Input:\n",
        "        y: N x 1 2 dimensional numpy array; labels for handwritten digits\n",
        "    Output:\n",
        "        digit_idxs: a dictionary; the keys are digits 0 -- 9\n",
        "                    for a digit k, digit_idxs[k] is a list identifying the rows labeled with digit k\n",
        "    '''\n",
        "    N = y.shape[0]\n",
        "    digit_idxs = {}\n",
        "    for n in range(N):\n",
        "        digit = ydigitstrain[n, 0]\n",
        "        if not digit in digit_idxs:\n",
        "            digit_idxs[digit] = []\n",
        "        digit_idxs[digit].append(n)\n",
        "    return digit_idxs\n",
        "'''\n",
        "Construct the training and test sets for the rest of the exercises on classifying 1s vs 5s\n",
        "'''\n",
        "\n",
        "digit_idxs_train = indexDigits(Xaugtrain)\n",
        "X1train = Xaugtrain[digit_idxs_train[1], :]\n",
        "N1train = X1train.shape[0]\n",
        "print(f'number of 1s: {N1train}')\n",
        "X5train = Xaugtrain[digit_idxs_train[5], :]\n",
        "N5train = X5train.shape[0]\n",
        "print(f'number of 5s: {N5train}')\n",
        "Xtrain = Xaugtrain[digit_idxs_train[1]+digit_idxs_train[5], :]\n",
        "ytrain = np.concatenate((np.ones((N1train, 1)), -1*np.ones((N5train, 1))), axis=0)\n",
        "Ntrain, d = Xtrain.shape\n",
        "print(f'number of 1s and 5s: {Ntrain}')\n",
        "print(f'Xtrain shape: {Xtrain.shape}, ytrain shape: {ytrain.shape}')\n",
        "\n",
        "\n",
        "digit_idxs_test = indexDigits(Xaugtest)\n",
        "\n",
        "X1test = Xaugtest[digit_idxs_test[1], :]\n",
        "X5test = Xaugtest[digit_idxs_test[5], :]\n",
        "\n",
        "Xtest = Xaugtest[digit_idxs_test[1]+digit_idxs_test[5], :]\n",
        "ytest = np.concatenate((np.ones((len(digit_idxs_test[1]), 1)), -1*np.ones((len(digit_idxs_test[5]), 1))), axis=0)\n",
        "Ntest, d = Xtest.shape\n",
        "print(f'number of 1s and 5s: {Ntest}')\n",
        "print(f'Xtest shape: {Xtest.shape}, ytest shape: {ytest.shape}')\n"
      ],
      "metadata": {
        "colab": {
          "base_uri": "https://localhost:8080/"
        },
        "id": "LGKadtq8bCGY",
        "outputId": "a4de67b8-35c9-483b-ee8d-721adf2f3bf7"
      },
      "execution_count": null,
      "outputs": [
        {
          "output_type": "stream",
          "name": "stdout",
          "text": [
            "Computing augmented training feature matrix\n",
            "computing intensity feature\n",
            "Input shape 3602, 256\n",
            "Output shape (3602, 1)\n",
            "computing symmetry feature\n",
            "Input shape 3602, 256\n",
            "Output shape (3602, 1)\n",
            "Shape of augmented feature matrix: (3602, 3)\n",
            "Computing augmented test feature matrix\n",
            "computing intensity feature\n",
            "Input shape 988, 256\n",
            "Output shape (988, 1)\n",
            "computing symmetry feature\n",
            "Input shape 988, 256\n",
            "Output shape (988, 1)\n",
            "Shape of augmented feature matrix: (988, 3)\n",
            "number of 1s: 1005\n",
            "number of 5s: 556\n",
            "number of 1s and 5s: 1561\n",
            "Xtrain shape: (1561, 3), ytrain shape: (1561, 1)\n",
            "number of 1s and 5s: 458\n",
            "Xtest shape: (458, 3), ytest shape: (458, 1)\n"
          ]
        }
      ]
    },
    {
      "cell_type": "code",
      "source": [
        "from sklearn import svm\n",
        "from sklearn.model_selection import GridSearchCV\n",
        "import numpy as np\n",
        "from sklearn import svm\n",
        "from sklearn.model_selection import GridSearchCV\n",
        "from sklearn.preprocessing import PolynomialFeatures\n",
        "from sklearn.pipeline import make_pipeline\n",
        "import numpy as np"
      ],
      "metadata": {
        "id": "7zZ4MNmiJySQ"
      },
      "execution_count": null,
      "outputs": []
    },
    {
      "cell_type": "code",
      "source": [
        "svm_model = svm.SVC(kernel='linear')\n",
        "param_grid = {'C': np.logspace(-3, 3, 7)}\n",
        "grid_search = GridSearchCV(svm_model, param_grid, cv=5)\n",
        "grid_search.fit(Xtrain, ytrain)"
      ],
      "metadata": {
        "colab": {
          "base_uri": "https://localhost:8080/",
          "height": 1000
        },
        "id": "Sj2WNpgDJ2d6",
        "outputId": "34ea21a0-4d05-48ac-a988-546b69b2ddf3"
      },
      "execution_count": null,
      "outputs": [
        {
          "output_type": "stream",
          "name": "stderr",
          "text": [
            "/usr/local/lib/python3.10/dist-packages/sklearn/utils/validation.py:1143: DataConversionWarning: A column-vector y was passed when a 1d array was expected. Please change the shape of y to (n_samples, ), for example using ravel().\n",
            "  y = column_or_1d(y, warn=True)\n",
            "/usr/local/lib/python3.10/dist-packages/sklearn/utils/validation.py:1143: DataConversionWarning: A column-vector y was passed when a 1d array was expected. Please change the shape of y to (n_samples, ), for example using ravel().\n",
            "  y = column_or_1d(y, warn=True)\n",
            "/usr/local/lib/python3.10/dist-packages/sklearn/utils/validation.py:1143: DataConversionWarning: A column-vector y was passed when a 1d array was expected. Please change the shape of y to (n_samples, ), for example using ravel().\n",
            "  y = column_or_1d(y, warn=True)\n",
            "/usr/local/lib/python3.10/dist-packages/sklearn/utils/validation.py:1143: DataConversionWarning: A column-vector y was passed when a 1d array was expected. Please change the shape of y to (n_samples, ), for example using ravel().\n",
            "  y = column_or_1d(y, warn=True)\n",
            "/usr/local/lib/python3.10/dist-packages/sklearn/utils/validation.py:1143: DataConversionWarning: A column-vector y was passed when a 1d array was expected. Please change the shape of y to (n_samples, ), for example using ravel().\n",
            "  y = column_or_1d(y, warn=True)\n",
            "/usr/local/lib/python3.10/dist-packages/sklearn/utils/validation.py:1143: DataConversionWarning: A column-vector y was passed when a 1d array was expected. Please change the shape of y to (n_samples, ), for example using ravel().\n",
            "  y = column_or_1d(y, warn=True)\n",
            "/usr/local/lib/python3.10/dist-packages/sklearn/utils/validation.py:1143: DataConversionWarning: A column-vector y was passed when a 1d array was expected. Please change the shape of y to (n_samples, ), for example using ravel().\n",
            "  y = column_or_1d(y, warn=True)\n",
            "/usr/local/lib/python3.10/dist-packages/sklearn/utils/validation.py:1143: DataConversionWarning: A column-vector y was passed when a 1d array was expected. Please change the shape of y to (n_samples, ), for example using ravel().\n",
            "  y = column_or_1d(y, warn=True)\n",
            "/usr/local/lib/python3.10/dist-packages/sklearn/utils/validation.py:1143: DataConversionWarning: A column-vector y was passed when a 1d array was expected. Please change the shape of y to (n_samples, ), for example using ravel().\n",
            "  y = column_or_1d(y, warn=True)\n",
            "/usr/local/lib/python3.10/dist-packages/sklearn/utils/validation.py:1143: DataConversionWarning: A column-vector y was passed when a 1d array was expected. Please change the shape of y to (n_samples, ), for example using ravel().\n",
            "  y = column_or_1d(y, warn=True)\n",
            "/usr/local/lib/python3.10/dist-packages/sklearn/utils/validation.py:1143: DataConversionWarning: A column-vector y was passed when a 1d array was expected. Please change the shape of y to (n_samples, ), for example using ravel().\n",
            "  y = column_or_1d(y, warn=True)\n",
            "/usr/local/lib/python3.10/dist-packages/sklearn/utils/validation.py:1143: DataConversionWarning: A column-vector y was passed when a 1d array was expected. Please change the shape of y to (n_samples, ), for example using ravel().\n",
            "  y = column_or_1d(y, warn=True)\n",
            "/usr/local/lib/python3.10/dist-packages/sklearn/utils/validation.py:1143: DataConversionWarning: A column-vector y was passed when a 1d array was expected. Please change the shape of y to (n_samples, ), for example using ravel().\n",
            "  y = column_or_1d(y, warn=True)\n",
            "/usr/local/lib/python3.10/dist-packages/sklearn/utils/validation.py:1143: DataConversionWarning: A column-vector y was passed when a 1d array was expected. Please change the shape of y to (n_samples, ), for example using ravel().\n",
            "  y = column_or_1d(y, warn=True)\n",
            "/usr/local/lib/python3.10/dist-packages/sklearn/utils/validation.py:1143: DataConversionWarning: A column-vector y was passed when a 1d array was expected. Please change the shape of y to (n_samples, ), for example using ravel().\n",
            "  y = column_or_1d(y, warn=True)\n",
            "/usr/local/lib/python3.10/dist-packages/sklearn/utils/validation.py:1143: DataConversionWarning: A column-vector y was passed when a 1d array was expected. Please change the shape of y to (n_samples, ), for example using ravel().\n",
            "  y = column_or_1d(y, warn=True)\n",
            "/usr/local/lib/python3.10/dist-packages/sklearn/utils/validation.py:1143: DataConversionWarning: A column-vector y was passed when a 1d array was expected. Please change the shape of y to (n_samples, ), for example using ravel().\n",
            "  y = column_or_1d(y, warn=True)\n",
            "/usr/local/lib/python3.10/dist-packages/sklearn/utils/validation.py:1143: DataConversionWarning: A column-vector y was passed when a 1d array was expected. Please change the shape of y to (n_samples, ), for example using ravel().\n",
            "  y = column_or_1d(y, warn=True)\n",
            "/usr/local/lib/python3.10/dist-packages/sklearn/utils/validation.py:1143: DataConversionWarning: A column-vector y was passed when a 1d array was expected. Please change the shape of y to (n_samples, ), for example using ravel().\n",
            "  y = column_or_1d(y, warn=True)\n",
            "/usr/local/lib/python3.10/dist-packages/sklearn/utils/validation.py:1143: DataConversionWarning: A column-vector y was passed when a 1d array was expected. Please change the shape of y to (n_samples, ), for example using ravel().\n",
            "  y = column_or_1d(y, warn=True)\n",
            "/usr/local/lib/python3.10/dist-packages/sklearn/utils/validation.py:1143: DataConversionWarning: A column-vector y was passed when a 1d array was expected. Please change the shape of y to (n_samples, ), for example using ravel().\n",
            "  y = column_or_1d(y, warn=True)\n",
            "/usr/local/lib/python3.10/dist-packages/sklearn/utils/validation.py:1143: DataConversionWarning: A column-vector y was passed when a 1d array was expected. Please change the shape of y to (n_samples, ), for example using ravel().\n",
            "  y = column_or_1d(y, warn=True)\n",
            "/usr/local/lib/python3.10/dist-packages/sklearn/utils/validation.py:1143: DataConversionWarning: A column-vector y was passed when a 1d array was expected. Please change the shape of y to (n_samples, ), for example using ravel().\n",
            "  y = column_or_1d(y, warn=True)\n",
            "/usr/local/lib/python3.10/dist-packages/sklearn/utils/validation.py:1143: DataConversionWarning: A column-vector y was passed when a 1d array was expected. Please change the shape of y to (n_samples, ), for example using ravel().\n",
            "  y = column_or_1d(y, warn=True)\n",
            "/usr/local/lib/python3.10/dist-packages/sklearn/utils/validation.py:1143: DataConversionWarning: A column-vector y was passed when a 1d array was expected. Please change the shape of y to (n_samples, ), for example using ravel().\n",
            "  y = column_or_1d(y, warn=True)\n",
            "/usr/local/lib/python3.10/dist-packages/sklearn/utils/validation.py:1143: DataConversionWarning: A column-vector y was passed when a 1d array was expected. Please change the shape of y to (n_samples, ), for example using ravel().\n",
            "  y = column_or_1d(y, warn=True)\n",
            "/usr/local/lib/python3.10/dist-packages/sklearn/utils/validation.py:1143: DataConversionWarning: A column-vector y was passed when a 1d array was expected. Please change the shape of y to (n_samples, ), for example using ravel().\n",
            "  y = column_or_1d(y, warn=True)\n",
            "/usr/local/lib/python3.10/dist-packages/sklearn/utils/validation.py:1143: DataConversionWarning: A column-vector y was passed when a 1d array was expected. Please change the shape of y to (n_samples, ), for example using ravel().\n",
            "  y = column_or_1d(y, warn=True)\n",
            "/usr/local/lib/python3.10/dist-packages/sklearn/utils/validation.py:1143: DataConversionWarning: A column-vector y was passed when a 1d array was expected. Please change the shape of y to (n_samples, ), for example using ravel().\n",
            "  y = column_or_1d(y, warn=True)\n",
            "/usr/local/lib/python3.10/dist-packages/sklearn/utils/validation.py:1143: DataConversionWarning: A column-vector y was passed when a 1d array was expected. Please change the shape of y to (n_samples, ), for example using ravel().\n",
            "  y = column_or_1d(y, warn=True)\n",
            "/usr/local/lib/python3.10/dist-packages/sklearn/utils/validation.py:1143: DataConversionWarning: A column-vector y was passed when a 1d array was expected. Please change the shape of y to (n_samples, ), for example using ravel().\n",
            "  y = column_or_1d(y, warn=True)\n",
            "/usr/local/lib/python3.10/dist-packages/sklearn/utils/validation.py:1143: DataConversionWarning: A column-vector y was passed when a 1d array was expected. Please change the shape of y to (n_samples, ), for example using ravel().\n",
            "  y = column_or_1d(y, warn=True)\n",
            "/usr/local/lib/python3.10/dist-packages/sklearn/utils/validation.py:1143: DataConversionWarning: A column-vector y was passed when a 1d array was expected. Please change the shape of y to (n_samples, ), for example using ravel().\n",
            "  y = column_or_1d(y, warn=True)\n",
            "/usr/local/lib/python3.10/dist-packages/sklearn/utils/validation.py:1143: DataConversionWarning: A column-vector y was passed when a 1d array was expected. Please change the shape of y to (n_samples, ), for example using ravel().\n",
            "  y = column_or_1d(y, warn=True)\n",
            "/usr/local/lib/python3.10/dist-packages/sklearn/utils/validation.py:1143: DataConversionWarning: A column-vector y was passed when a 1d array was expected. Please change the shape of y to (n_samples, ), for example using ravel().\n",
            "  y = column_or_1d(y, warn=True)\n",
            "/usr/local/lib/python3.10/dist-packages/sklearn/utils/validation.py:1143: DataConversionWarning: A column-vector y was passed when a 1d array was expected. Please change the shape of y to (n_samples, ), for example using ravel().\n",
            "  y = column_or_1d(y, warn=True)\n"
          ]
        },
        {
          "output_type": "execute_result",
          "data": {
            "text/plain": [
              "GridSearchCV(cv=5, estimator=SVC(kernel='linear'),\n",
              "             param_grid={'C': array([1.e-03, 1.e-02, 1.e-01, 1.e+00, 1.e+01, 1.e+02, 1.e+03])})"
            ],
            "text/html": [
              "<style>#sk-container-id-5 {color: black;background-color: white;}#sk-container-id-5 pre{padding: 0;}#sk-container-id-5 div.sk-toggleable {background-color: white;}#sk-container-id-5 label.sk-toggleable__label {cursor: pointer;display: block;width: 100%;margin-bottom: 0;padding: 0.3em;box-sizing: border-box;text-align: center;}#sk-container-id-5 label.sk-toggleable__label-arrow:before {content: \"▸\";float: left;margin-right: 0.25em;color: #696969;}#sk-container-id-5 label.sk-toggleable__label-arrow:hover:before {color: black;}#sk-container-id-5 div.sk-estimator:hover label.sk-toggleable__label-arrow:before {color: black;}#sk-container-id-5 div.sk-toggleable__content {max-height: 0;max-width: 0;overflow: hidden;text-align: left;background-color: #f0f8ff;}#sk-container-id-5 div.sk-toggleable__content pre {margin: 0.2em;color: black;border-radius: 0.25em;background-color: #f0f8ff;}#sk-container-id-5 input.sk-toggleable__control:checked~div.sk-toggleable__content {max-height: 200px;max-width: 100%;overflow: auto;}#sk-container-id-5 input.sk-toggleable__control:checked~label.sk-toggleable__label-arrow:before {content: \"▾\";}#sk-container-id-5 div.sk-estimator input.sk-toggleable__control:checked~label.sk-toggleable__label {background-color: #d4ebff;}#sk-container-id-5 div.sk-label input.sk-toggleable__control:checked~label.sk-toggleable__label {background-color: #d4ebff;}#sk-container-id-5 input.sk-hidden--visually {border: 0;clip: rect(1px 1px 1px 1px);clip: rect(1px, 1px, 1px, 1px);height: 1px;margin: -1px;overflow: hidden;padding: 0;position: absolute;width: 1px;}#sk-container-id-5 div.sk-estimator {font-family: monospace;background-color: #f0f8ff;border: 1px dotted black;border-radius: 0.25em;box-sizing: border-box;margin-bottom: 0.5em;}#sk-container-id-5 div.sk-estimator:hover {background-color: #d4ebff;}#sk-container-id-5 div.sk-parallel-item::after {content: \"\";width: 100%;border-bottom: 1px solid gray;flex-grow: 1;}#sk-container-id-5 div.sk-label:hover label.sk-toggleable__label {background-color: #d4ebff;}#sk-container-id-5 div.sk-serial::before {content: \"\";position: absolute;border-left: 1px solid gray;box-sizing: border-box;top: 0;bottom: 0;left: 50%;z-index: 0;}#sk-container-id-5 div.sk-serial {display: flex;flex-direction: column;align-items: center;background-color: white;padding-right: 0.2em;padding-left: 0.2em;position: relative;}#sk-container-id-5 div.sk-item {position: relative;z-index: 1;}#sk-container-id-5 div.sk-parallel {display: flex;align-items: stretch;justify-content: center;background-color: white;position: relative;}#sk-container-id-5 div.sk-item::before, #sk-container-id-5 div.sk-parallel-item::before {content: \"\";position: absolute;border-left: 1px solid gray;box-sizing: border-box;top: 0;bottom: 0;left: 50%;z-index: -1;}#sk-container-id-5 div.sk-parallel-item {display: flex;flex-direction: column;z-index: 1;position: relative;background-color: white;}#sk-container-id-5 div.sk-parallel-item:first-child::after {align-self: flex-end;width: 50%;}#sk-container-id-5 div.sk-parallel-item:last-child::after {align-self: flex-start;width: 50%;}#sk-container-id-5 div.sk-parallel-item:only-child::after {width: 0;}#sk-container-id-5 div.sk-dashed-wrapped {border: 1px dashed gray;margin: 0 0.4em 0.5em 0.4em;box-sizing: border-box;padding-bottom: 0.4em;background-color: white;}#sk-container-id-5 div.sk-label label {font-family: monospace;font-weight: bold;display: inline-block;line-height: 1.2em;}#sk-container-id-5 div.sk-label-container {text-align: center;}#sk-container-id-5 div.sk-container {/* jupyter's `normalize.less` sets `[hidden] { display: none; }` but bootstrap.min.css set `[hidden] { display: none !important; }` so we also need the `!important` here to be able to override the default hidden behavior on the sphinx rendered scikit-learn.org. See: https://github.com/scikit-learn/scikit-learn/issues/21755 */display: inline-block !important;position: relative;}#sk-container-id-5 div.sk-text-repr-fallback {display: none;}</style><div id=\"sk-container-id-5\" class=\"sk-top-container\"><div class=\"sk-text-repr-fallback\"><pre>GridSearchCV(cv=5, estimator=SVC(kernel=&#x27;linear&#x27;),\n",
              "             param_grid={&#x27;C&#x27;: array([1.e-03, 1.e-02, 1.e-01, 1.e+00, 1.e+01, 1.e+02, 1.e+03])})</pre><b>In a Jupyter environment, please rerun this cell to show the HTML representation or trust the notebook. <br />On GitHub, the HTML representation is unable to render, please try loading this page with nbviewer.org.</b></div><div class=\"sk-container\" hidden><div class=\"sk-item sk-dashed-wrapped\"><div class=\"sk-label-container\"><div class=\"sk-label sk-toggleable\"><input class=\"sk-toggleable__control sk-hidden--visually\" id=\"sk-estimator-id-13\" type=\"checkbox\" ><label for=\"sk-estimator-id-13\" class=\"sk-toggleable__label sk-toggleable__label-arrow\">GridSearchCV</label><div class=\"sk-toggleable__content\"><pre>GridSearchCV(cv=5, estimator=SVC(kernel=&#x27;linear&#x27;),\n",
              "             param_grid={&#x27;C&#x27;: array([1.e-03, 1.e-02, 1.e-01, 1.e+00, 1.e+01, 1.e+02, 1.e+03])})</pre></div></div></div><div class=\"sk-parallel\"><div class=\"sk-parallel-item\"><div class=\"sk-item\"><div class=\"sk-label-container\"><div class=\"sk-label sk-toggleable\"><input class=\"sk-toggleable__control sk-hidden--visually\" id=\"sk-estimator-id-14\" type=\"checkbox\" ><label for=\"sk-estimator-id-14\" class=\"sk-toggleable__label sk-toggleable__label-arrow\">estimator: SVC</label><div class=\"sk-toggleable__content\"><pre>SVC(kernel=&#x27;linear&#x27;)</pre></div></div></div><div class=\"sk-serial\"><div class=\"sk-item\"><div class=\"sk-estimator sk-toggleable\"><input class=\"sk-toggleable__control sk-hidden--visually\" id=\"sk-estimator-id-15\" type=\"checkbox\" ><label for=\"sk-estimator-id-15\" class=\"sk-toggleable__label sk-toggleable__label-arrow\">SVC</label><div class=\"sk-toggleable__content\"><pre>SVC(kernel=&#x27;linear&#x27;)</pre></div></div></div></div></div></div></div></div></div></div>"
            ]
          },
          "metadata": {},
          "execution_count": 46
        }
      ]
    },
    {
      "cell_type": "code",
      "source": [
        "best_C = grid_search.best_params_['C']\n",
        "best_svm_model = grid_search.best_estimator_\n",
        "ECV = 1 - grid_search.best_score_\n",
        "print(f\"Best Regularization parameter : {best_C}\")\n",
        "print(f\"ECV for best Regularization {best_C} is : {ECV}\")"
      ],
      "metadata": {
        "colab": {
          "base_uri": "https://localhost:8080/"
        },
        "id": "HNiYCwe4J6_w",
        "outputId": "d8244720-7147-4281-8d8b-35984ed42d3c"
      },
      "execution_count": null,
      "outputs": [
        {
          "output_type": "stream",
          "name": "stdout",
          "text": [
            "Best Regularization parameter : 100.0\n",
            "ECV for best Regularization 100.0 is : 0.017297452281477832\n"
          ]
        }
      ]
    },
    {
      "cell_type": "code",
      "source": [
        "\n",
        "best_svm_model.fit(Xtrain, ytrain)\n",
        "Ein = 1 - best_svm_model.score(Xtrain, ytrain)\n",
        "print(f\"Ein for SVM model is : {Ein}\")\n"
      ],
      "metadata": {
        "colab": {
          "base_uri": "https://localhost:8080/"
        },
        "id": "tV1jsTPesIbn",
        "outputId": "ec12f223-1751-4a93-899a-f698d557cda8"
      },
      "execution_count": null,
      "outputs": [
        {
          "output_type": "stream",
          "name": "stdout",
          "text": [
            "Ein for SVM model is : 0.01665598975016014\n"
          ]
        },
        {
          "output_type": "stream",
          "name": "stderr",
          "text": [
            "/usr/local/lib/python3.10/dist-packages/sklearn/utils/validation.py:1143: DataConversionWarning: A column-vector y was passed when a 1d array was expected. Please change the shape of y to (n_samples, ), for example using ravel().\n",
            "  y = column_or_1d(y, warn=True)\n"
          ]
        }
      ]
    },
    {
      "cell_type": "code",
      "source": [
        "Etest = 1 - best_svm_model.score(Xtest, ytest)\n",
        "print(f\"Etest for SVM model: {Etest}\")\n"
      ],
      "metadata": {
        "colab": {
          "base_uri": "https://localhost:8080/"
        },
        "id": "W1djGyQpyadI",
        "outputId": "a70f477f-adb1-4dfc-9b34-a0cb7c613a2c"
      },
      "execution_count": null,
      "outputs": [
        {
          "output_type": "stream",
          "name": "stdout",
          "text": [
            "Etest for SVM model: 0.5873362445414847\n"
          ]
        }
      ]
    },
    {
      "cell_type": "code",
      "source": [
        "\n",
        "param_grid = {'svc__C':   np.logspace(-3, 3, 7)}\n",
        "\n",
        "poly_svm_model = make_pipeline(PolynomialFeatures(degree=10), svm.SVC(kernel='linear'))\n",
        "\n",
        "grid_search= GridSearchCV(poly_svm_model, param_grid, cv=5)\n",
        "grid_search.fit(Xtrain, ytrain)\n",
        "\n",
        "best_C_poly = grid_search.best_params_['svc__C']\n",
        "\n",
        "best_poly_svm_model = grid_search.best_estimator_\n",
        "\n",
        "ECV_poly = 1 - grid_search.best_score_\n",
        "\n"
      ],
      "metadata": {
        "id": "bkrcWJTqRgdS"
      },
      "execution_count": null,
      "outputs": []
    },
    {
      "cell_type": "code",
      "source": [
        "\n",
        "print(f\"Best regularization parameter for poly Transform data : {best_C_poly}\")\n",
        "print(f\"ECV for best  regularization parameter: {ECV_poly}\")"
      ],
      "metadata": {
        "colab": {
          "base_uri": "https://localhost:8080/"
        },
        "id": "o9gS7mtDsXDS",
        "outputId": "9c28bd23-abc5-4e2a-f8f8-7c2c31eed39b"
      },
      "execution_count": null,
      "outputs": [
        {
          "output_type": "stream",
          "name": "stdout",
          "text": [
            "Best regularization parameter for poly Transform data : 1.0\n",
            "ECV for best  regularization parameter: 0.017938477922503582\n"
          ]
        }
      ]
    },
    {
      "cell_type": "code",
      "source": [
        "best_poly_svm_model.fit(Xtrain, ytrain)\n",
        "\n",
        "\n",
        "Ein_poly = 1 - best_poly_svm_model.score(Xtrain, ytrain)\n",
        "print(f\"Ein for poly Transform data: {Ein_poly}\")\n"
      ],
      "metadata": {
        "colab": {
          "base_uri": "https://localhost:8080/"
        },
        "id": "J_GAGXuysQqi",
        "outputId": "13a15a3c-e026-42ee-f310-baf40fb55206"
      },
      "execution_count": null,
      "outputs": [
        {
          "output_type": "stream",
          "name": "stdout",
          "text": [
            "Ein for poly Transform data: 0.017296604740550947\n"
          ]
        },
        {
          "output_type": "stream",
          "name": "stderr",
          "text": [
            "/usr/local/lib/python3.10/dist-packages/sklearn/utils/validation.py:1143: DataConversionWarning: A column-vector y was passed when a 1d array was expected. Please change the shape of y to (n_samples, ), for example using ravel().\n",
            "  y = column_or_1d(y, warn=True)\n"
          ]
        }
      ]
    },
    {
      "cell_type": "code",
      "source": [
        "Etest = 1 - best_poly_svm_model.score(Xtest, ytest)\n",
        "print(f\"Etest for poly Transform data: {Etest}\")"
      ],
      "metadata": {
        "colab": {
          "base_uri": "https://localhost:8080/"
        },
        "id": "j4hCc2WbsbOL",
        "outputId": "0de7b7b1-200d-4371-8faf-baa1ce253dfd"
      },
      "execution_count": null,
      "outputs": [
        {
          "output_type": "stream",
          "name": "stdout",
          "text": [
            "Etest for poly Transform data: 0.5873362445414847\n"
          ]
        }
      ]
    }
  ]
}